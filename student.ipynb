{
 "cells": [
  {
   "cell_type": "markdown",
   "metadata": {},
   "source": [
    "## Final Project Submission\n",
    "\n",
    "Please fill out: \n",
    "* Student name: Pamela M Godia\n",
    "* Student pace: Part time\n",
    "* Scheduled project review date/time: \n",
    "* Instructor name: Mildred Jepkoskei\n",
    "* Blog post URL:https://public.tableau.com/app/profile/pamela.godia/viz/Phase1ProjectPG_Dashboard/Dashboard1\n"
   ]
  },
  {
   "cell_type": "markdown",
   "metadata": {},
   "source": [
    "# 1. Business Understanding\n",
    "\n",
    "My company want to purchase a new aircraft to expand its business portfolio using aviation data from the National Transportation Safety Board, which consists of aviation accidents and selected incidents from 1963 to 2023 (Over 60 years), in the United States and international waters\n",
    "\n",
    "## The Project Goal\n",
    "To determine aircrafts with the lowet risk of accidents and fatalities, by analysing historical data, to help the company make an informed decision on aircraft purchase in order to start a business endaviour\n",
    "\n",
    "## Key questions\n",
    "What type of aircarfts have reported the least or no total fatal injuries over the last 60 years?\n",
    "what type of aircrafts have reported the most total fatal injuries over the last 60 years?\n",
    "what tupe of aircrafts have reported the least incidents \n"
   ]
  },
  {
   "cell_type": "markdown",
   "metadata": {},
   "source": [
    "# 2. Data Understanding\n",
    "## Source of Data \n",
    "This is data from the National Transport and Safety Board that includes aviation accident data and selected incidents for over 60 years (1962-2023). "
   ]
  },
  {
   "cell_type": "code",
   "execution_count": 1,
   "metadata": {},
   "outputs": [],
   "source": [
    "# Import pandas and otherr libraries\n",
    "import pandas as pd\n",
    "import numpy as np\n",
    "import seaborn as sns\n",
    "import matplotlib.pyplot as plt\n",
    "%matplotlib inline\n"
   ]
  },
  {
   "cell_type": "markdown",
   "metadata": {},
   "source": [
    "## Loading the data as a CSV file into Pandas"
   ]
  },
  {
   "cell_type": "code",
   "execution_count": 2,
   "metadata": {},
   "outputs": [
    {
     "name": "stderr",
     "output_type": "stream",
     "text": [
      "<ipython-input-2-fec52d67eb8b>:3: DtypeWarning: Columns (6,7,28) have mixed types. Specify dtype option on import or set low_memory=False.\n",
      "  df_aviation_data = pd.read_csv('Data/Aviation_Data.csv', index_col=0)\n"
     ]
    },
    {
     "data": {
      "text/html": [
       "<div>\n",
       "<style scoped>\n",
       "    .dataframe tbody tr th:only-of-type {\n",
       "        vertical-align: middle;\n",
       "    }\n",
       "\n",
       "    .dataframe tbody tr th {\n",
       "        vertical-align: top;\n",
       "    }\n",
       "\n",
       "    .dataframe thead th {\n",
       "        text-align: right;\n",
       "    }\n",
       "</style>\n",
       "<table border=\"1\" class=\"dataframe\">\n",
       "  <thead>\n",
       "    <tr style=\"text-align: right;\">\n",
       "      <th></th>\n",
       "      <th>Investigation.Type</th>\n",
       "      <th>Accident.Number</th>\n",
       "      <th>Event.Date</th>\n",
       "      <th>Location</th>\n",
       "      <th>Country</th>\n",
       "      <th>Latitude</th>\n",
       "      <th>Longitude</th>\n",
       "      <th>Airport.Code</th>\n",
       "      <th>Airport.Name</th>\n",
       "      <th>Injury.Severity</th>\n",
       "      <th>...</th>\n",
       "      <th>Purpose.of.flight</th>\n",
       "      <th>Air.carrier</th>\n",
       "      <th>Total.Fatal.Injuries</th>\n",
       "      <th>Total.Serious.Injuries</th>\n",
       "      <th>Total.Minor.Injuries</th>\n",
       "      <th>Total.Uninjured</th>\n",
       "      <th>Weather.Condition</th>\n",
       "      <th>Broad.phase.of.flight</th>\n",
       "      <th>Report.Status</th>\n",
       "      <th>Publication.Date</th>\n",
       "    </tr>\n",
       "    <tr>\n",
       "      <th>Event.Id</th>\n",
       "      <th></th>\n",
       "      <th></th>\n",
       "      <th></th>\n",
       "      <th></th>\n",
       "      <th></th>\n",
       "      <th></th>\n",
       "      <th></th>\n",
       "      <th></th>\n",
       "      <th></th>\n",
       "      <th></th>\n",
       "      <th></th>\n",
       "      <th></th>\n",
       "      <th></th>\n",
       "      <th></th>\n",
       "      <th></th>\n",
       "      <th></th>\n",
       "      <th></th>\n",
       "      <th></th>\n",
       "      <th></th>\n",
       "      <th></th>\n",
       "      <th></th>\n",
       "    </tr>\n",
       "  </thead>\n",
       "  <tbody>\n",
       "    <tr>\n",
       "      <th>20001218X45444</th>\n",
       "      <td>Accident</td>\n",
       "      <td>SEA87LA080</td>\n",
       "      <td>1948-10-24</td>\n",
       "      <td>MOOSE CREEK, ID</td>\n",
       "      <td>United States</td>\n",
       "      <td>NaN</td>\n",
       "      <td>NaN</td>\n",
       "      <td>NaN</td>\n",
       "      <td>NaN</td>\n",
       "      <td>Fatal(2)</td>\n",
       "      <td>...</td>\n",
       "      <td>Personal</td>\n",
       "      <td>NaN</td>\n",
       "      <td>2.0</td>\n",
       "      <td>0.0</td>\n",
       "      <td>0.0</td>\n",
       "      <td>0.0</td>\n",
       "      <td>UNK</td>\n",
       "      <td>Cruise</td>\n",
       "      <td>Probable Cause</td>\n",
       "      <td>NaN</td>\n",
       "    </tr>\n",
       "    <tr>\n",
       "      <th>20001218X45447</th>\n",
       "      <td>Accident</td>\n",
       "      <td>LAX94LA336</td>\n",
       "      <td>1962-07-19</td>\n",
       "      <td>BRIDGEPORT, CA</td>\n",
       "      <td>United States</td>\n",
       "      <td>NaN</td>\n",
       "      <td>NaN</td>\n",
       "      <td>NaN</td>\n",
       "      <td>NaN</td>\n",
       "      <td>Fatal(4)</td>\n",
       "      <td>...</td>\n",
       "      <td>Personal</td>\n",
       "      <td>NaN</td>\n",
       "      <td>4.0</td>\n",
       "      <td>0.0</td>\n",
       "      <td>0.0</td>\n",
       "      <td>0.0</td>\n",
       "      <td>UNK</td>\n",
       "      <td>Unknown</td>\n",
       "      <td>Probable Cause</td>\n",
       "      <td>19-09-1996</td>\n",
       "    </tr>\n",
       "    <tr>\n",
       "      <th>20061025X01555</th>\n",
       "      <td>Accident</td>\n",
       "      <td>NYC07LA005</td>\n",
       "      <td>1974-08-30</td>\n",
       "      <td>Saltville, VA</td>\n",
       "      <td>United States</td>\n",
       "      <td>36.922223</td>\n",
       "      <td>-81.878056</td>\n",
       "      <td>NaN</td>\n",
       "      <td>NaN</td>\n",
       "      <td>Fatal(3)</td>\n",
       "      <td>...</td>\n",
       "      <td>Personal</td>\n",
       "      <td>NaN</td>\n",
       "      <td>3.0</td>\n",
       "      <td>NaN</td>\n",
       "      <td>NaN</td>\n",
       "      <td>NaN</td>\n",
       "      <td>IMC</td>\n",
       "      <td>Cruise</td>\n",
       "      <td>Probable Cause</td>\n",
       "      <td>26-02-2007</td>\n",
       "    </tr>\n",
       "    <tr>\n",
       "      <th>20001218X45448</th>\n",
       "      <td>Accident</td>\n",
       "      <td>LAX96LA321</td>\n",
       "      <td>1977-06-19</td>\n",
       "      <td>EUREKA, CA</td>\n",
       "      <td>United States</td>\n",
       "      <td>NaN</td>\n",
       "      <td>NaN</td>\n",
       "      <td>NaN</td>\n",
       "      <td>NaN</td>\n",
       "      <td>Fatal(2)</td>\n",
       "      <td>...</td>\n",
       "      <td>Personal</td>\n",
       "      <td>NaN</td>\n",
       "      <td>2.0</td>\n",
       "      <td>0.0</td>\n",
       "      <td>0.0</td>\n",
       "      <td>0.0</td>\n",
       "      <td>IMC</td>\n",
       "      <td>Cruise</td>\n",
       "      <td>Probable Cause</td>\n",
       "      <td>12-09-2000</td>\n",
       "    </tr>\n",
       "    <tr>\n",
       "      <th>20041105X01764</th>\n",
       "      <td>Accident</td>\n",
       "      <td>CHI79FA064</td>\n",
       "      <td>1979-08-02</td>\n",
       "      <td>Canton, OH</td>\n",
       "      <td>United States</td>\n",
       "      <td>NaN</td>\n",
       "      <td>NaN</td>\n",
       "      <td>NaN</td>\n",
       "      <td>NaN</td>\n",
       "      <td>Fatal(1)</td>\n",
       "      <td>...</td>\n",
       "      <td>Personal</td>\n",
       "      <td>NaN</td>\n",
       "      <td>1.0</td>\n",
       "      <td>2.0</td>\n",
       "      <td>NaN</td>\n",
       "      <td>0.0</td>\n",
       "      <td>VMC</td>\n",
       "      <td>Approach</td>\n",
       "      <td>Probable Cause</td>\n",
       "      <td>16-04-1980</td>\n",
       "    </tr>\n",
       "  </tbody>\n",
       "</table>\n",
       "<p>5 rows × 30 columns</p>\n",
       "</div>"
      ],
      "text/plain": [
       "               Investigation.Type Accident.Number  Event.Date  \\\n",
       "Event.Id                                                        \n",
       "20001218X45444           Accident      SEA87LA080  1948-10-24   \n",
       "20001218X45447           Accident      LAX94LA336  1962-07-19   \n",
       "20061025X01555           Accident      NYC07LA005  1974-08-30   \n",
       "20001218X45448           Accident      LAX96LA321  1977-06-19   \n",
       "20041105X01764           Accident      CHI79FA064  1979-08-02   \n",
       "\n",
       "                       Location        Country   Latitude  Longitude  \\\n",
       "Event.Id                                                               \n",
       "20001218X45444  MOOSE CREEK, ID  United States        NaN        NaN   \n",
       "20001218X45447   BRIDGEPORT, CA  United States        NaN        NaN   \n",
       "20061025X01555    Saltville, VA  United States  36.922223 -81.878056   \n",
       "20001218X45448       EUREKA, CA  United States        NaN        NaN   \n",
       "20041105X01764       Canton, OH  United States        NaN        NaN   \n",
       "\n",
       "               Airport.Code Airport.Name Injury.Severity  ...  \\\n",
       "Event.Id                                                  ...   \n",
       "20001218X45444          NaN          NaN        Fatal(2)  ...   \n",
       "20001218X45447          NaN          NaN        Fatal(4)  ...   \n",
       "20061025X01555          NaN          NaN        Fatal(3)  ...   \n",
       "20001218X45448          NaN          NaN        Fatal(2)  ...   \n",
       "20041105X01764          NaN          NaN        Fatal(1)  ...   \n",
       "\n",
       "               Purpose.of.flight Air.carrier Total.Fatal.Injuries  \\\n",
       "Event.Id                                                            \n",
       "20001218X45444          Personal         NaN                  2.0   \n",
       "20001218X45447          Personal         NaN                  4.0   \n",
       "20061025X01555          Personal         NaN                  3.0   \n",
       "20001218X45448          Personal         NaN                  2.0   \n",
       "20041105X01764          Personal         NaN                  1.0   \n",
       "\n",
       "               Total.Serious.Injuries Total.Minor.Injuries Total.Uninjured  \\\n",
       "Event.Id                                                                     \n",
       "20001218X45444                    0.0                  0.0             0.0   \n",
       "20001218X45447                    0.0                  0.0             0.0   \n",
       "20061025X01555                    NaN                  NaN             NaN   \n",
       "20001218X45448                    0.0                  0.0             0.0   \n",
       "20041105X01764                    2.0                  NaN             0.0   \n",
       "\n",
       "                Weather.Condition Broad.phase.of.flight   Report.Status  \\\n",
       "Event.Id                                                                  \n",
       "20001218X45444                UNK                Cruise  Probable Cause   \n",
       "20001218X45447                UNK               Unknown  Probable Cause   \n",
       "20061025X01555                IMC                Cruise  Probable Cause   \n",
       "20001218X45448                IMC                Cruise  Probable Cause   \n",
       "20041105X01764                VMC              Approach  Probable Cause   \n",
       "\n",
       "               Publication.Date  \n",
       "Event.Id                         \n",
       "20001218X45444              NaN  \n",
       "20001218X45447       19-09-1996  \n",
       "20061025X01555       26-02-2007  \n",
       "20001218X45448       12-09-2000  \n",
       "20041105X01764       16-04-1980  \n",
       "\n",
       "[5 rows x 30 columns]"
      ]
     },
     "execution_count": 2,
     "metadata": {},
     "output_type": "execute_result"
    }
   ],
   "source": [
    "#loading the data\n",
    "#read_csv('AviationData.csv', index_col=0) # pass argument index << use first column as index\n",
    "df_aviation_data = pd.read_csv('Data/Aviation_Data.csv', index_col=0)\n",
    "\n",
    "# check the first five rows and the content of the columns\n",
    "df_aviation_data.head()"
   ]
  },
  {
   "cell_type": "code",
   "execution_count": 3,
   "metadata": {},
   "outputs": [
    {
     "name": "stdout",
     "output_type": "stream",
     "text": [
      "<class 'pandas.core.frame.DataFrame'>\n",
      "Index: 90348 entries, 20001218X45444 to 20221230106513\n",
      "Data columns (total 30 columns):\n",
      " #   Column                  Non-Null Count  Dtype  \n",
      "---  ------                  --------------  -----  \n",
      " 0   Investigation.Type      90348 non-null  object \n",
      " 1   Accident.Number         88889 non-null  object \n",
      " 2   Event.Date              88889 non-null  object \n",
      " 3   Location                88837 non-null  object \n",
      " 4   Country                 88663 non-null  object \n",
      " 5   Latitude                34382 non-null  object \n",
      " 6   Longitude               34373 non-null  object \n",
      " 7   Airport.Code            50249 non-null  object \n",
      " 8   Airport.Name            52790 non-null  object \n",
      " 9   Injury.Severity         87889 non-null  object \n",
      " 10  Aircraft.damage         85695 non-null  object \n",
      " 11  Aircraft.Category       32287 non-null  object \n",
      " 12  Registration.Number     87572 non-null  object \n",
      " 13  Make                    88826 non-null  object \n",
      " 14  Model                   88797 non-null  object \n",
      " 15  Amateur.Built           88787 non-null  object \n",
      " 16  Number.of.Engines       82805 non-null  float64\n",
      " 17  Engine.Type             81812 non-null  object \n",
      " 18  FAR.Description         32023 non-null  object \n",
      " 19  Schedule                12582 non-null  object \n",
      " 20  Purpose.of.flight       82697 non-null  object \n",
      " 21  Air.carrier             16648 non-null  object \n",
      " 22  Total.Fatal.Injuries    77488 non-null  float64\n",
      " 23  Total.Serious.Injuries  76379 non-null  float64\n",
      " 24  Total.Minor.Injuries    76956 non-null  float64\n",
      " 25  Total.Uninjured         82977 non-null  float64\n",
      " 26  Weather.Condition       84397 non-null  object \n",
      " 27  Broad.phase.of.flight   61724 non-null  object \n",
      " 28  Report.Status           82508 non-null  object \n",
      " 29  Publication.Date        73659 non-null  object \n",
      "dtypes: float64(5), object(25)\n",
      "memory usage: 21.4+ MB\n"
     ]
    }
   ],
   "source": [
    "#type of data\n",
    "df_aviation_data.info()"
   ]
  },
  {
   "cell_type": "code",
   "execution_count": 4,
   "metadata": {},
   "outputs": [
    {
     "data": {
      "text/plain": [
       "Index(['Investigation.Type', 'Accident.Number', 'Event.Date', 'Location',\n",
       "       'Country', 'Latitude', 'Longitude', 'Airport.Code', 'Airport.Name',\n",
       "       'Injury.Severity', 'Aircraft.damage', 'Aircraft.Category',\n",
       "       'Registration.Number', 'Make', 'Model', 'Amateur.Built',\n",
       "       'Number.of.Engines', 'Engine.Type', 'FAR.Description', 'Schedule',\n",
       "       'Purpose.of.flight', 'Air.carrier', 'Total.Fatal.Injuries',\n",
       "       'Total.Serious.Injuries', 'Total.Minor.Injuries', 'Total.Uninjured',\n",
       "       'Weather.Condition', 'Broad.phase.of.flight', 'Report.Status',\n",
       "       'Publication.Date'],\n",
       "      dtype='object')"
      ]
     },
     "execution_count": 4,
     "metadata": {},
     "output_type": "execute_result"
    }
   ],
   "source": [
    "#df Columns, print column lables\n",
    "df_aviation_data.columns"
   ]
  },
  {
   "cell_type": "markdown",
   "metadata": {},
   "source": [
    "# 3. Data Preparation"
   ]
  },
  {
   "cell_type": "markdown",
   "metadata": {},
   "source": [
    "## Renaming the Columns to lower case"
   ]
  },
  {
   "cell_type": "code",
   "execution_count": 5,
   "metadata": {},
   "outputs": [
    {
     "data": {
      "text/plain": [
       "Index(['investigation.type', 'accident.number', 'event.date', 'location',\n",
       "       'country', 'latitude', 'longitude', 'airport.code', 'airport.name',\n",
       "       'injury.severity', 'aircraft.damage', 'aircraft.category',\n",
       "       'registration.number', 'make', 'model', 'amateur.built',\n",
       "       'number.of.engines', 'engine.type', 'far.description', 'schedule',\n",
       "       'purpose.of.flight', 'air.carrier', 'total.fatal.injuries',\n",
       "       'total.serious.injuries', 'total.minor.injuries', 'total.uninjured',\n",
       "       'weather.condition', 'broad.phase.of.flight', 'report.status',\n",
       "       'publication.date'],\n",
       "      dtype='object')"
      ]
     },
     "execution_count": 5,
     "metadata": {},
     "output_type": "execute_result"
    }
   ],
   "source": [
    "df_aviation_data = df_aviation_data.rename(columns=str.lower)\n",
    "df_aviation_data.columns"
   ]
  },
  {
   "cell_type": "code",
   "execution_count": 6,
   "metadata": {},
   "outputs": [
    {
     "data": {
      "text/plain": [
       "Index(['investigation_type', 'accident_number', 'event_date', 'location',\n",
       "       'country', 'latitude', 'longitude', 'airport_code', 'airport_name',\n",
       "       'injury_severity', 'aircraft_damage', 'aircraft_category',\n",
       "       'registration_number', 'make', 'model', 'amateur_built',\n",
       "       'number_of_engines', 'engine_type', 'far_description', 'schedule',\n",
       "       'purpose_of_flight', 'air_carrier', 'total_fatal_injuries',\n",
       "       'total_serious_injuries', 'total_minor_injuries', 'total_uninjured',\n",
       "       'weather_condition', 'broad_phase_of_flight', 'report_status',\n",
       "       'publication_date'],\n",
       "      dtype='object')"
      ]
     },
     "execution_count": 6,
     "metadata": {},
     "output_type": "execute_result"
    }
   ],
   "source": [
    "# dealing with inconsistent data # Standardizing the data\n",
    "# replace '.' with '_' in the column names\n",
    "df_aviation_data = df_aviation_data.rename(columns=lambda x: x.replace('.', '_'))\n",
    "df_aviation_data.columns"
   ]
  },
  {
   "cell_type": "markdown",
   "metadata": {},
   "source": [
    "## Checking for Duplicates"
   ]
  },
  {
   "cell_type": "code",
   "execution_count": 7,
   "metadata": {},
   "outputs": [
    {
     "data": {
      "text/plain": [
       "1390"
      ]
     },
     "execution_count": 7,
     "metadata": {},
     "output_type": "execute_result"
    }
   ],
   "source": [
    "df_aviation_data.duplicated().sum()"
   ]
  },
  {
   "cell_type": "code",
   "execution_count": 8,
   "metadata": {},
   "outputs": [
    {
     "data": {
      "text/plain": [
       "(90348, 30)"
      ]
     },
     "execution_count": 8,
     "metadata": {},
     "output_type": "execute_result"
    }
   ],
   "source": [
    "# shape\n",
    "df_aviation_data.shape"
   ]
  },
  {
   "cell_type": "code",
   "execution_count": 9,
   "metadata": {},
   "outputs": [],
   "source": [
    "# Removal of duplicates\n",
    "df_aviation_data.drop_duplicates(keep='first', inplace=True)"
   ]
  },
  {
   "cell_type": "code",
   "execution_count": 10,
   "metadata": {},
   "outputs": [
    {
     "data": {
      "text/plain": [
       "(88958, 30)"
      ]
     },
     "execution_count": 10,
     "metadata": {},
     "output_type": "execute_result"
    }
   ],
   "source": [
    "#check the shape again\n",
    "df_aviation_data.shape"
   ]
  },
  {
   "cell_type": "markdown",
   "metadata": {},
   "source": [
    "## Checking and handling for missing values"
   ]
  },
  {
   "cell_type": "code",
   "execution_count": 11,
   "metadata": {},
   "outputs": [
    {
     "data": {
      "text/plain": [
       "investigation_type            0\n",
       "accident_number              69\n",
       "event_date                   69\n",
       "location                    121\n",
       "country                     295\n",
       "latitude                  54576\n",
       "longitude                 54585\n",
       "airport_code              38709\n",
       "airport_name              36168\n",
       "injury_severity            1069\n",
       "aircraft_damage            3263\n",
       "aircraft_category         56671\n",
       "registration_number        1386\n",
       "make                        132\n",
       "model                       161\n",
       "amateur_built               171\n",
       "number_of_engines          6153\n",
       "engine_type                7146\n",
       "far_description           56935\n",
       "schedule                  76376\n",
       "purpose_of_flight          6261\n",
       "air_carrier               72310\n",
       "total_fatal_injuries      11470\n",
       "total_serious_injuries    12579\n",
       "total_minor_injuries      12002\n",
       "total_uninjured            5981\n",
       "weather_condition          4561\n",
       "broad_phase_of_flight     27234\n",
       "report_status              6450\n",
       "publication_date          15299\n",
       "dtype: int64"
      ]
     },
     "execution_count": 11,
     "metadata": {},
     "output_type": "execute_result"
    }
   ],
   "source": [
    "# check for missing values\n",
    "df_aviation_data.isnull().sum()"
   ]
  },
  {
   "cell_type": "markdown",
   "metadata": {},
   "source": [
    "### Handling Missing Values\n",
    "\n",
    "Check for the missing values in the following critial columns: 'make', 'model', 'aircraft_category', 'injury_severity', 'total_fatal_injuries', 'total_serious_injuries', 'number_of_engines’, 'aircraft_damage', 'weather_condition', 'broad_phase_of_flight'"
   ]
  },
  {
   "cell_type": "code",
   "execution_count": 12,
   "metadata": {},
   "outputs": [
    {
     "data": {
      "text/plain": [
       "schedule                  76376\n",
       "air_carrier               72310\n",
       "far_description           56935\n",
       "aircraft_category         56671\n",
       "longitude                 54585\n",
       "latitude                  54576\n",
       "airport_code              38709\n",
       "airport_name              36168\n",
       "broad_phase_of_flight     27234\n",
       "publication_date          15299\n",
       "total_serious_injuries    12579\n",
       "total_minor_injuries      12002\n",
       "total_fatal_injuries      11470\n",
       "engine_type                7146\n",
       "report_status              6450\n",
       "purpose_of_flight          6261\n",
       "number_of_engines          6153\n",
       "total_uninjured            5981\n",
       "weather_condition          4561\n",
       "aircraft_damage            3263\n",
       "registration_number        1386\n",
       "injury_severity            1069\n",
       "country                     295\n",
       "amateur_built               171\n",
       "model                       161\n",
       "make                        132\n",
       "location                    121\n",
       "accident_number              69\n",
       "event_date                   69\n",
       "investigation_type            0\n",
       "dtype: int64"
      ]
     },
     "execution_count": 12,
     "metadata": {},
     "output_type": "execute_result"
    }
   ],
   "source": [
    "# count of missing values per column\n",
    "missing = df_aviation_data.isnull().sum()\n",
    "\n",
    "missing.sort_values(ascending=False) # sort series.values in descending order"
   ]
  },
  {
   "cell_type": "code",
   "execution_count": 13,
   "metadata": {},
   "outputs": [
    {
     "data": {
      "text/plain": [
       "schedule                  85.86\n",
       "air_carrier               81.29\n",
       "far_description           64.00\n",
       "aircraft_category         63.71\n",
       "longitude                 61.36\n",
       "latitude                  61.35\n",
       "airport_code              43.51\n",
       "airport_name              40.66\n",
       "broad_phase_of_flight     30.61\n",
       "publication_date          17.20\n",
       "total_serious_injuries    14.14\n",
       "total_minor_injuries      13.49\n",
       "total_fatal_injuries      12.89\n",
       "engine_type                8.03\n",
       "report_status              7.25\n",
       "purpose_of_flight          7.04\n",
       "number_of_engines          6.92\n",
       "total_uninjured            6.72\n",
       "weather_condition          5.13\n",
       "aircraft_damage            3.67\n",
       "registration_number        1.56\n",
       "injury_severity            1.20\n",
       "country                    0.33\n",
       "amateur_built              0.19\n",
       "model                      0.18\n",
       "make                       0.15\n",
       "location                   0.14\n",
       "accident_number            0.08\n",
       "event_date                 0.08\n",
       "investigation_type         0.00\n",
       "dtype: float64"
      ]
     },
     "execution_count": 13,
     "metadata": {},
     "output_type": "execute_result"
    }
   ],
   "source": [
    "# calculate the percentage of missing data\n",
    "percentage_missing = np.round(((df_aviation_data.isnull().sum() / len(df_aviation_data)) * 100), 2)\n",
    "\n",
    "percentage_missing.sort_values(ascending=False)"
   ]
  },
  {
   "cell_type": "markdown",
   "metadata": {},
   "source": [
    "### Droping rows where there are missing values\n",
    "\n",
    "Drop rows where there are missing values in any of these seven columns and create another DataFrame and name it df_cleaned \n",
    "\n",
    "'make', 'model', 'aircraft_category', 'injury_severity', 'total_fatal_injuries', 'total_serious_injuries', 'number_of_engines’, 'aircraft_damage', 'weather_condition', 'broad_phase_of_flight'"
   ]
  },
  {
   "cell_type": "code",
   "execution_count": 14,
   "metadata": {},
   "outputs": [
    {
     "data": {
      "text/html": [
       "<div>\n",
       "<style scoped>\n",
       "    .dataframe tbody tr th:only-of-type {\n",
       "        vertical-align: middle;\n",
       "    }\n",
       "\n",
       "    .dataframe tbody tr th {\n",
       "        vertical-align: top;\n",
       "    }\n",
       "\n",
       "    .dataframe thead th {\n",
       "        text-align: right;\n",
       "    }\n",
       "</style>\n",
       "<table border=\"1\" class=\"dataframe\">\n",
       "  <thead>\n",
       "    <tr style=\"text-align: right;\">\n",
       "      <th></th>\n",
       "      <th>investigation_type</th>\n",
       "      <th>accident_number</th>\n",
       "      <th>event_date</th>\n",
       "      <th>location</th>\n",
       "      <th>country</th>\n",
       "      <th>latitude</th>\n",
       "      <th>longitude</th>\n",
       "      <th>airport_code</th>\n",
       "      <th>airport_name</th>\n",
       "      <th>injury_severity</th>\n",
       "      <th>...</th>\n",
       "      <th>purpose_of_flight</th>\n",
       "      <th>air_carrier</th>\n",
       "      <th>total_fatal_injuries</th>\n",
       "      <th>total_serious_injuries</th>\n",
       "      <th>total_minor_injuries</th>\n",
       "      <th>total_uninjured</th>\n",
       "      <th>weather_condition</th>\n",
       "      <th>broad_phase_of_flight</th>\n",
       "      <th>report_status</th>\n",
       "      <th>publication_date</th>\n",
       "    </tr>\n",
       "    <tr>\n",
       "      <th>Event.Id</th>\n",
       "      <th></th>\n",
       "      <th></th>\n",
       "      <th></th>\n",
       "      <th></th>\n",
       "      <th></th>\n",
       "      <th></th>\n",
       "      <th></th>\n",
       "      <th></th>\n",
       "      <th></th>\n",
       "      <th></th>\n",
       "      <th></th>\n",
       "      <th></th>\n",
       "      <th></th>\n",
       "      <th></th>\n",
       "      <th></th>\n",
       "      <th></th>\n",
       "      <th></th>\n",
       "      <th></th>\n",
       "      <th></th>\n",
       "      <th></th>\n",
       "      <th></th>\n",
       "    </tr>\n",
       "  </thead>\n",
       "  <tbody>\n",
       "    <tr>\n",
       "      <th>20020909X01562</th>\n",
       "      <td>Accident</td>\n",
       "      <td>SEA82DA022</td>\n",
       "      <td>1982-01-01</td>\n",
       "      <td>PULLMAN, WA</td>\n",
       "      <td>United States</td>\n",
       "      <td>NaN</td>\n",
       "      <td>NaN</td>\n",
       "      <td>NaN</td>\n",
       "      <td>BLACKBURN AG STRIP</td>\n",
       "      <td>Non-Fatal</td>\n",
       "      <td>...</td>\n",
       "      <td>Personal</td>\n",
       "      <td>NaN</td>\n",
       "      <td>0.0</td>\n",
       "      <td>0.0</td>\n",
       "      <td>0.0</td>\n",
       "      <td>2.0</td>\n",
       "      <td>VMC</td>\n",
       "      <td>Takeoff</td>\n",
       "      <td>Probable Cause</td>\n",
       "      <td>01-01-1982</td>\n",
       "    </tr>\n",
       "    <tr>\n",
       "      <th>20020909X01561</th>\n",
       "      <td>Accident</td>\n",
       "      <td>NYC82DA015</td>\n",
       "      <td>1982-01-01</td>\n",
       "      <td>EAST HANOVER, NJ</td>\n",
       "      <td>United States</td>\n",
       "      <td>NaN</td>\n",
       "      <td>NaN</td>\n",
       "      <td>N58</td>\n",
       "      <td>HANOVER</td>\n",
       "      <td>Non-Fatal</td>\n",
       "      <td>...</td>\n",
       "      <td>Business</td>\n",
       "      <td>NaN</td>\n",
       "      <td>0.0</td>\n",
       "      <td>0.0</td>\n",
       "      <td>0.0</td>\n",
       "      <td>2.0</td>\n",
       "      <td>IMC</td>\n",
       "      <td>Landing</td>\n",
       "      <td>Probable Cause</td>\n",
       "      <td>01-01-1982</td>\n",
       "    </tr>\n",
       "    <tr>\n",
       "      <th>20020917X02148</th>\n",
       "      <td>Accident</td>\n",
       "      <td>FTW82FRJ07</td>\n",
       "      <td>1982-01-02</td>\n",
       "      <td>HOMER, LA</td>\n",
       "      <td>United States</td>\n",
       "      <td>NaN</td>\n",
       "      <td>NaN</td>\n",
       "      <td>NaN</td>\n",
       "      <td>NaN</td>\n",
       "      <td>Non-Fatal</td>\n",
       "      <td>...</td>\n",
       "      <td>Personal</td>\n",
       "      <td>NaN</td>\n",
       "      <td>0.0</td>\n",
       "      <td>0.0</td>\n",
       "      <td>1.0</td>\n",
       "      <td>0.0</td>\n",
       "      <td>IMC</td>\n",
       "      <td>Cruise</td>\n",
       "      <td>Probable Cause</td>\n",
       "      <td>02-01-1983</td>\n",
       "    </tr>\n",
       "    <tr>\n",
       "      <th>20020917X02134</th>\n",
       "      <td>Accident</td>\n",
       "      <td>FTW82FRA14</td>\n",
       "      <td>1982-01-02</td>\n",
       "      <td>HEARNE, TX</td>\n",
       "      <td>United States</td>\n",
       "      <td>NaN</td>\n",
       "      <td>NaN</td>\n",
       "      <td>T72</td>\n",
       "      <td>HEARNE MUNICIPAL</td>\n",
       "      <td>Fatal(1)</td>\n",
       "      <td>...</td>\n",
       "      <td>Personal</td>\n",
       "      <td>NaN</td>\n",
       "      <td>1.0</td>\n",
       "      <td>0.0</td>\n",
       "      <td>0.0</td>\n",
       "      <td>0.0</td>\n",
       "      <td>IMC</td>\n",
       "      <td>Takeoff</td>\n",
       "      <td>Probable Cause</td>\n",
       "      <td>02-01-1983</td>\n",
       "    </tr>\n",
       "    <tr>\n",
       "      <th>20020917X02119</th>\n",
       "      <td>Accident</td>\n",
       "      <td>FTW82FPJ10</td>\n",
       "      <td>1982-01-02</td>\n",
       "      <td>CHICKASHA, OK</td>\n",
       "      <td>United States</td>\n",
       "      <td>NaN</td>\n",
       "      <td>NaN</td>\n",
       "      <td>NaN</td>\n",
       "      <td>NaN</td>\n",
       "      <td>Fatal(1)</td>\n",
       "      <td>...</td>\n",
       "      <td>Personal</td>\n",
       "      <td>NaN</td>\n",
       "      <td>1.0</td>\n",
       "      <td>0.0</td>\n",
       "      <td>0.0</td>\n",
       "      <td>0.0</td>\n",
       "      <td>IMC</td>\n",
       "      <td>Cruise</td>\n",
       "      <td>Probable Cause</td>\n",
       "      <td>02-01-1983</td>\n",
       "    </tr>\n",
       "  </tbody>\n",
       "</table>\n",
       "<p>5 rows × 30 columns</p>\n",
       "</div>"
      ],
      "text/plain": [
       "               investigation_type accident_number  event_date  \\\n",
       "Event.Id                                                        \n",
       "20020909X01562           Accident      SEA82DA022  1982-01-01   \n",
       "20020909X01561           Accident      NYC82DA015  1982-01-01   \n",
       "20020917X02148           Accident      FTW82FRJ07  1982-01-02   \n",
       "20020917X02134           Accident      FTW82FRA14  1982-01-02   \n",
       "20020917X02119           Accident      FTW82FPJ10  1982-01-02   \n",
       "\n",
       "                        location        country latitude longitude  \\\n",
       "Event.Id                                                             \n",
       "20020909X01562       PULLMAN, WA  United States      NaN       NaN   \n",
       "20020909X01561  EAST HANOVER, NJ  United States      NaN       NaN   \n",
       "20020917X02148         HOMER, LA  United States      NaN       NaN   \n",
       "20020917X02134        HEARNE, TX  United States      NaN       NaN   \n",
       "20020917X02119     CHICKASHA, OK  United States      NaN       NaN   \n",
       "\n",
       "               airport_code        airport_name injury_severity  ...  \\\n",
       "Event.Id                                                         ...   \n",
       "20020909X01562          NaN  BLACKBURN AG STRIP       Non-Fatal  ...   \n",
       "20020909X01561          N58             HANOVER       Non-Fatal  ...   \n",
       "20020917X02148          NaN                 NaN       Non-Fatal  ...   \n",
       "20020917X02134          T72    HEARNE MUNICIPAL        Fatal(1)  ...   \n",
       "20020917X02119          NaN                 NaN        Fatal(1)  ...   \n",
       "\n",
       "               purpose_of_flight air_carrier total_fatal_injuries  \\\n",
       "Event.Id                                                            \n",
       "20020909X01562          Personal         NaN                  0.0   \n",
       "20020909X01561          Business         NaN                  0.0   \n",
       "20020917X02148          Personal         NaN                  0.0   \n",
       "20020917X02134          Personal         NaN                  1.0   \n",
       "20020917X02119          Personal         NaN                  1.0   \n",
       "\n",
       "               total_serious_injuries total_minor_injuries total_uninjured  \\\n",
       "Event.Id                                                                     \n",
       "20020909X01562                    0.0                  0.0             2.0   \n",
       "20020909X01561                    0.0                  0.0             2.0   \n",
       "20020917X02148                    0.0                  1.0             0.0   \n",
       "20020917X02134                    0.0                  0.0             0.0   \n",
       "20020917X02119                    0.0                  0.0             0.0   \n",
       "\n",
       "                weather_condition broad_phase_of_flight   report_status  \\\n",
       "Event.Id                                                                  \n",
       "20020909X01562                VMC               Takeoff  Probable Cause   \n",
       "20020909X01561                IMC               Landing  Probable Cause   \n",
       "20020917X02148                IMC                Cruise  Probable Cause   \n",
       "20020917X02134                IMC               Takeoff  Probable Cause   \n",
       "20020917X02119                IMC                Cruise  Probable Cause   \n",
       "\n",
       "               publication_date  \n",
       "Event.Id                         \n",
       "20020909X01562       01-01-1982  \n",
       "20020909X01561       01-01-1982  \n",
       "20020917X02148       02-01-1983  \n",
       "20020917X02134       02-01-1983  \n",
       "20020917X02119       02-01-1983  \n",
       "\n",
       "[5 rows x 30 columns]"
      ]
     },
     "execution_count": 14,
     "metadata": {},
     "output_type": "execute_result"
    }
   ],
   "source": [
    "# drop rows where there are missing values in any of this columns:\n",
    "# 'make', 'model', 'aircraft category', 'injury_sererity', 'total_fatal_injuries' and 'total_serious_injuries', 'number_of_engines', 'report_status\n",
    "\n",
    "df_cleaned = df_aviation_data.dropna(subset=['make', 'model', 'aircraft_category', 'injury_severity', 'total_fatal_injuries', 'total_serious_injuries', 'number_of_engines', 'aircraft_damage', 'weather_condition', 'broad_phase_of_flight'])\n",
    "df_cleaned.head()"
   ]
  },
  {
   "cell_type": "markdown",
   "metadata": {},
   "source": [
    "### Checking the unique values in the ten columns"
   ]
  },
  {
   "cell_type": "code",
   "execution_count": 15,
   "metadata": {},
   "outputs": [],
   "source": [
    "# what are the unique values in each of the columns of interest \n",
    "unique_makes = df_cleaned['make'].unique()\n",
    "unique_models = df_cleaned['model'].unique()\n",
    "unique_categories = df_cleaned['aircraft_category'].unique()\n",
    "unique_injury_severity = df_cleaned['injury_severity'].unique()\n",
    "unique_fatal_injuries = df_cleaned['total_fatal_injuries'].unique()\n",
    "unique_serious_injuries = df_cleaned['total_serious_injuries'].unique()\n",
    "unique_number_of_engines = df_cleaned['number_of_engines'].unique()\n",
    "unique_aircraft_damage = df_cleaned['aircraft_damage'].unique()\n",
    "unique_weather_condition = df_cleaned['weather_condition'].unique()\n",
    "unique_broad_phase_of_flight = df_cleaned['broad_phase_of_flight'].unique()\n",
    "\n"
   ]
  },
  {
   "cell_type": "code",
   "execution_count": 16,
   "metadata": {},
   "outputs": [
    {
     "name": "stdout",
     "output_type": "stream",
     "text": [
      "['Cessna' 'Bellanca' 'Navion' 'Beech' 'Enstrom' 'Smith' 'Bell' 'Piper'\n",
      " 'Grumman' 'Beechcraft' 'Maule' 'Air Tractor' 'Rockwell' 'Aerospatiale'\n",
      " 'Mooney' 'Boeing' 'Curtis' 'Schleicher' 'Quickie' 'Embraer' 'Hughes'\n",
      " 'Swearingen' 'De Havilland' 'Bell Helicopter' 'Bede Aircraft' 'Convair'\n",
      " 'Beachner' 'Canadair' 'Douglas' 'Sons Mustang' 'Sikorsky'\n",
      " 'Mcdonnell Douglas' 'Bell/textron' 'Robertson' 'Aeronca'\n",
      " 'Smith Miniplane' 'Mitsubishi' 'Mcdonnell-douglas' 'Taylorcraft'\n",
      " 'Ted Smith' 'Robinson' 'Raven' 'Ercoupe' 'Rockwell Comdr'\n",
      " 'Howard Aircraft Corp.' 'Porterfield' 'Nihon' 'Great Lakes'\n",
      " 'Balloon Works' 'Pitts' 'Fairchild Hiller' 'Kaman' 'Weatherly' 'Eagle'\n",
      " 'Barnes' 'Schweizer' 'Homebuilt' 'Smith Aerostar' 'Rockwell Intl'\n",
      " 'Hiller' 'Schreder' 'Varga' 'Hatz' 'Nord Aviation' 'Crook'\n",
      " 'American Yankee' 'Helio' 'Colonial' 'Gulfstream American' 'Benson'\n",
      " 'Luscombe' 'Mckinley Eaa' 'Airmate' 'B??lkow' 'Snow' 'Rockwell Commander'\n",
      " 'Rotorway' 'Champion' 'Stinson' 'Fournier Aviation' 'Curtiss-wright'\n",
      " 'Aero Commander' 'Mbb-bolkow' 'Piper-aerostar' 'Rockwell Intl.' 'Ryan'\n",
      " 'Jurca' 'Martin-pitts' 'S.n.i.a.s.' 'Goodyear' 'Rand' 'Rutan'\n",
      " 'Burkhart Grob Flugzeugbah' 'Sud Aviation' 'Avres Corp.' 'Grum Amer'\n",
      " 'Evans Aircraft' 'Schweizer Sgs' 'Ayres' 'Stampe Renard' 'Fairchild'\n",
      " 'Lockheed' 'Pitts Special' 'Tailwind' 'Hiller-soloy' 'Aerotek-pitts'\n",
      " 'North American' 'Hartman' 'Spezio' 'Dauntless' 'Mbb' 'Bell/soloy'\n",
      " 'Raz-mut' 'Christian' 'Funk Aircraft Co.' 'Mong Sport' 'Rayan' 'Starfire'\n",
      " 'Osprey' 'Hudson' 'Continental' 'Gates Learjet' 'Scorpion'\n",
      " 'Thunder Balloons, Ltd.' 'Moore Bell' 'Blanik' 'Taylor' 'Lake' 'Brantley'\n",
      " 'Bryan' 'Bell 47g-3b' 'Volmer Aircraft' 'Citabria' 'Martin'\n",
      " 'Nash Cassutt Racer' 'Playmate' 'Oldfield' 'Broyill-cowan-murray' 'Erco'\n",
      " 'Brantly' 'Callair' 'Consolidated Aeronautics Inc.' 'Continental Mk5a'\n",
      " 'Arctic' 'Thurston' 'Swanson' 'Adams' 'Mignet' 'Starduster' 'Hardie'\n",
      " 'Savage' 'Starke' 'Mccall' 'Fokker' 'Bensen' 'Wing' 'Gregg' 'Learjet'\n",
      " 'Mcclary' 'Midget' 'Na' 'I.c.a. Brasov - Romania'\n",
      " 'Southern Airmotive Corp Sac' 'Barrett' 'I.c.a. Brasov' 'Peter Clark'\n",
      " 'Davis' 'Bellance' 'Rockwell International' 'Downer Aircraft Industries'\n",
      " 'Pterodactyl' 'Ryan Aeronautics' 'Grumman American' 'Clancy'\n",
      " 'Bell-cont 42g' 'Britten-norman' 'Waco' 'Goans' 'Glassflugel' 'Pietenpol'\n",
      " 'Gulfstream' 'Miller' 'Aeronca Champion' 'Coot' 'Breezy' 'Junior Ace'\n",
      " 'Globe' 'Lark (i.c.a.)' 'Republic' \"Rockwell Int't\" 'Mong' 'American'\n",
      " 'Firefly' 'Texas Helicopter Corp.' 'Thorp' 'Rotorway Aircraft, Inc.'\n",
      " 'Omac' 'Bucker Jungmann' 'Steen' 'Alon' 'Austin' 'Morrisey' 'Hallquist'\n",
      " 'Aeronca Champ' 'Q-berry' 'Oar' 'Siai Marchetti' 'Corben' 'Sonerai'\n",
      " 'Bell Helicopter Textron' 'Boeing Stearman' 'Eiriavion Oy' 'Condor' 'Eaa'\n",
      " 'Von Berg' 'Menees' 'Engineering & Research' 'Auster' 'Air & Space'\n",
      " 'Quicksilver' 'Cassutt' 'Mustang' 'Lawson Special' 'Cameron' 'Bently'\n",
      " 'Lindgren Evans' 'American Aviation' 'Falkenthal' \"Villine's\"\n",
      " 'Consolidated Aero' 'Varieze' 'Davenport' 'Schempp-hirth' 'Bennet'\n",
      " 'Long-ez' 'Fairchild/swearingen' 'Flitecraft' 'Foster' 'Navy'\n",
      " 'Glasflugel' 'Tanke' 'Wainscott' 'Ken Brock' 'Saville Hummer' 'Cougar'\n",
      " 'General Balloon' 'Raven Industries' 'Boeing Vertol' 'Tomcat'\n",
      " 'Bowers Flybaby' 'Volksplane' 'E.l. Craig' 'Eipper-formance' 'C. Eff'\n",
      " 'J.a.mullan' 'Flagg' 'Arctic Aircraft' 'Vanhoose/scorpio'\n",
      " 'Johnson, Douglas L.' 'Short Bros.' 'Rolladen-schneider' 'Froehlich'\n",
      " 'Temco' 'Amateur Built' 'Mcdonald Douglas' 'Tifft-v' 'Beagle Aircraft'\n",
      " 'Aerosport' 'Cgs Aviation' 'Gates Lear Jet' 'Frank Turben' 'Hollman'\n",
      " 'Burke-parker' 'Norman Negus' 'Agusta' 'Eurocopter' 'Henry' 'Moravan'\n",
      " 'British Aerospace' 'Bombardier' 'Airbus Industrie'\n",
      " 'Mcdonnell Douglas Helicopters' 'Cirrus' 'Cirrus Design Corp.'\n",
      " 'Aircraft Mfg & Dev. Co. (amd)' 'Partenavia' 'Ingraham' 'Bird'\n",
      " 'Piper Aircraft' 'Raytheon Aircraft Company' 'Dassault-breguet'\n",
      " 'Stout Gordon' 'Falcon Safety Craft Inc' 'Niva' 'Socata' 'Yakovlev'\n",
      " 'Robinson Helicopter' 'Skykits' 'Root' 'Ortiz G/saint J' 'Indus'\n",
      " 'Wrb Associates, Llc.' 'Kelly' 'Blondin' 'Vans Aircraft'\n",
      " 'Gulfstream Aerospace' 'Cirrus Design Corp' 'Herink H R/herink R W'\n",
      " 'Swearingen T R/masters W' 'Porter Glen' 'Wootton, John' 'Hein'\n",
      " 'Althouse']\n",
      "['140' '401B' '17-30A' ... 'RAF 2000 GTX' '206L1' '206L-3']\n",
      "['Airplane' 'Helicopter' 'Glider' 'Balloon' 'Gyrocraft' 'Ultralight'\n",
      " 'Unknown']\n",
      "['Non-Fatal' 'Fatal(1)' 'Fatal(2)' 'Fatal(3)' 'Incident' 'Fatal(8)'\n",
      " 'Fatal(4)' 'Fatal(7)' 'Fatal(6)' 'Fatal(5)' 'Fatal(12)' 'Fatal(11)'\n",
      " 'Fatal(27)' 'Fatal(16)' 'Fatal(228)' 'Fatal(13)']\n",
      "[  0.   1.   2.   3.   8.   4.   7.   6.   5.  12.  11.  27.  16. 228.\n",
      "  13.]\n",
      "[ 0.  1.  2.  4.  5. 10.  3.  8.  7.  6.  9. 26.]\n",
      "[1. 2. 0. 4. 3.]\n",
      "['Substantial' 'Destroyed' 'Minor']\n",
      "['VMC' 'IMC' 'UNK']\n",
      "['Takeoff' 'Landing' 'Cruise' 'Taxi' 'Unknown' 'Approach' 'Descent'\n",
      " 'Maneuvering' 'Climb' 'Standing' 'Go-around' 'Other']\n"
     ]
    }
   ],
   "source": [
    "print(unique_makes)\n",
    "print(unique_models)\n",
    "print(unique_categories)\n",
    "print(unique_injury_severity)\n",
    "print(unique_fatal_injuries)\n",
    "print(unique_serious_injuries)\n",
    "print(unique_number_of_engines)\n",
    "print(unique_aircraft_damage) \n",
    "print(unique_weather_condition) \n",
    "print(unique_broad_phase_of_flight)\n"
   ]
  },
  {
   "cell_type": "code",
   "execution_count": 17,
   "metadata": {},
   "outputs": [
    {
     "name": "stdout",
     "output_type": "stream",
     "text": [
      "['Cessna' 'Bellanca' 'Navion' 'Beech' 'Enstrom' 'Smith' 'Bell' 'Piper'\n",
      " 'Grumman' 'Beechcraft' 'Maule' 'Air Tractor' 'Rockwell' 'Aerospatiale'\n",
      " 'Mooney' 'Boeing' 'Curtis' 'Schleicher' 'Quickie' 'Embraer' 'Hughes'\n",
      " 'Swearingen' 'De Havilland' 'Bell Helicopter' 'Bede Aircraft' 'Convair'\n",
      " 'Beachner' 'Canadair' 'Douglas' 'Sons Mustang' 'Sikorsky'\n",
      " 'Mcdonnell Douglas' 'Bell/textron' 'Robertson' 'Aeronca'\n",
      " 'Smith Miniplane' 'Mitsubishi' 'Mcdonnell-douglas' 'Taylorcraft'\n",
      " 'Ted Smith' 'Robinson' 'Raven' 'Ercoupe' 'Rockwell Comdr'\n",
      " 'Howard Aircraft Corp.' 'Porterfield' 'Nihon' 'Great Lakes'\n",
      " 'Balloon Works' 'Pitts' 'Fairchild Hiller' 'Kaman' 'Weatherly' 'Eagle'\n",
      " 'Barnes' 'Schweizer' 'Homebuilt' 'Smith Aerostar' 'Rockwell Intl'\n",
      " 'Hiller' 'Schreder' 'Varga' 'Hatz' 'Nord Aviation' 'Crook'\n",
      " 'American Yankee' 'Helio' 'Colonial' 'Gulfstream American' 'Benson'\n",
      " 'Luscombe' 'Mckinley Eaa' 'Airmate' 'B??lkow' 'Snow' 'Rockwell Commander'\n",
      " 'Rotorway' 'Champion' 'Stinson' 'Fournier Aviation' 'Curtiss-wright'\n",
      " 'Aero Commander' 'Mbb-bolkow' 'Piper-aerostar' 'Rockwell Intl.' 'Ryan'\n",
      " 'Jurca' 'Martin-pitts' 'S.n.i.a.s.' 'Goodyear' 'Rand' 'Rutan'\n",
      " 'Burkhart Grob Flugzeugbah' 'Sud Aviation' 'Avres Corp.' 'Grum Amer'\n",
      " 'Evans Aircraft' 'Schweizer Sgs' 'Ayres' 'Stampe Renard' 'Fairchild'\n",
      " 'Lockheed' 'Pitts Special' 'Tailwind' 'Hiller-soloy' 'Aerotek-pitts'\n",
      " 'North American' 'Hartman' 'Spezio' 'Dauntless' 'Mbb' 'Bell/soloy'\n",
      " 'Raz-mut' 'Christian' 'Funk Aircraft Co.' 'Mong Sport' 'Rayan' 'Starfire'\n",
      " 'Osprey' 'Hudson' 'Continental' 'Gates Learjet' 'Scorpion'\n",
      " 'Thunder Balloons, Ltd.' 'Moore Bell' 'Blanik' 'Taylor' 'Lake' 'Brantley'\n",
      " 'Bryan' 'Bell 47g-3b' 'Volmer Aircraft' 'Citabria' 'Martin'\n",
      " 'Nash Cassutt Racer' 'Playmate' 'Oldfield' 'Broyill-cowan-murray' 'Erco'\n",
      " 'Brantly' 'Callair' 'Consolidated Aeronautics Inc.' 'Continental Mk5a'\n",
      " 'Arctic' 'Thurston' 'Swanson' 'Adams' 'Mignet' 'Starduster' 'Hardie'\n",
      " 'Savage' 'Starke' 'Mccall' 'Fokker' 'Bensen' 'Wing' 'Gregg' 'Learjet'\n",
      " 'Mcclary' 'Midget' 'Na' 'I.c.a. Brasov - Romania'\n",
      " 'Southern Airmotive Corp Sac' 'Barrett' 'I.c.a. Brasov' 'Peter Clark'\n",
      " 'Davis' 'Bellance' 'Rockwell International' 'Downer Aircraft Industries'\n",
      " 'Pterodactyl' 'Ryan Aeronautics' 'Grumman American' 'Clancy'\n",
      " 'Bell-cont 42g' 'Britten-norman' 'Waco' 'Goans' 'Glassflugel' 'Pietenpol'\n",
      " 'Gulfstream' 'Miller' 'Aeronca Champion' 'Coot' 'Breezy' 'Junior Ace'\n",
      " 'Globe' 'Lark (i.c.a.)' 'Republic' \"Rockwell Int't\" 'Mong' 'American'\n",
      " 'Firefly' 'Texas Helicopter Corp.' 'Thorp' 'Rotorway Aircraft, Inc.'\n",
      " 'Omac' 'Bucker Jungmann' 'Steen' 'Alon' 'Austin' 'Morrisey' 'Hallquist'\n",
      " 'Aeronca Champ' 'Q-berry' 'Oar' 'Siai Marchetti' 'Corben' 'Sonerai'\n",
      " 'Bell Helicopter Textron' 'Boeing Stearman' 'Eiriavion Oy' 'Condor' 'Eaa'\n",
      " 'Von Berg' 'Menees' 'Engineering & Research' 'Auster' 'Air & Space'\n",
      " 'Quicksilver' 'Cassutt' 'Mustang' 'Lawson Special' 'Cameron' 'Bently'\n",
      " 'Lindgren Evans' 'American Aviation' 'Falkenthal' \"Villine's\"\n",
      " 'Consolidated Aero' 'Varieze' 'Davenport' 'Schempp-hirth' 'Bennet'\n",
      " 'Long-ez' 'Fairchild/swearingen' 'Flitecraft' 'Foster' 'Navy'\n",
      " 'Glasflugel' 'Tanke' 'Wainscott' 'Ken Brock' 'Saville Hummer' 'Cougar'\n",
      " 'General Balloon' 'Raven Industries' 'Boeing Vertol' 'Tomcat'\n",
      " 'Bowers Flybaby' 'Volksplane' 'E.l. Craig' 'Eipper-formance' 'C. Eff'\n",
      " 'J.a.mullan' 'Flagg' 'Arctic Aircraft' 'Vanhoose/scorpio'\n",
      " 'Johnson, Douglas L.' 'Short Bros.' 'Rolladen-schneider' 'Froehlich'\n",
      " 'Temco' 'Amateur Built' 'Mcdonald Douglas' 'Tifft-v' 'Beagle Aircraft'\n",
      " 'Aerosport' 'Cgs Aviation' 'Gates Lear Jet' 'Frank Turben' 'Hollman'\n",
      " 'Burke-parker' 'Norman Negus' 'Agusta' 'Eurocopter' 'Henry' 'Moravan'\n",
      " 'British Aerospace' 'Bombardier' 'Airbus Industrie'\n",
      " 'Mcdonnell Douglas Helicopters' 'Cirrus' 'Cirrus Design Corp.'\n",
      " 'Aircraft Mfg & Dev. Co. (amd)' 'Partenavia' 'Ingraham' 'Bird'\n",
      " 'Piper Aircraft' 'Raytheon Aircraft Company' 'Dassault-breguet'\n",
      " 'Stout Gordon' 'Falcon Safety Craft Inc' 'Niva' 'Socata' 'Yakovlev'\n",
      " 'Robinson Helicopter' 'Skykits' 'Root' 'Ortiz G/saint J' 'Indus'\n",
      " 'Wrb Associates, Llc.' 'Kelly' 'Blondin' 'Vans Aircraft'\n",
      " 'Gulfstream Aerospace' 'Cirrus Design Corp' 'Herink H R/herink R W'\n",
      " 'Swearingen T R/masters W' 'Porter Glen' 'Wootton, John' 'Hein'\n",
      " 'Althouse']\n"
     ]
    }
   ],
   "source": [
    "print(unique_makes)"
   ]
  },
  {
   "cell_type": "code",
   "execution_count": 18,
   "metadata": {},
   "outputs": [
    {
     "data": {
      "text/plain": [
       "array(['140', '401B', '17-30A', ..., 'RAF 2000 GTX', '206L1', '206L-3'],\n",
       "      dtype=object)"
      ]
     },
     "execution_count": 18,
     "metadata": {},
     "output_type": "execute_result"
    }
   ],
   "source": [
    "df_cleaned['model'].unique()"
   ]
  },
  {
   "cell_type": "code",
   "execution_count": 19,
   "metadata": {},
   "outputs": [
    {
     "name": "stdout",
     "output_type": "stream",
     "text": [
      "['Non-Fatal' 'Fatal(1)' 'Fatal(2)' 'Fatal(3)' 'Incident' 'Fatal(8)'\n",
      " 'Fatal(4)' 'Fatal(7)' 'Fatal(6)' 'Fatal(5)' 'Fatal(12)' 'Fatal(11)'\n",
      " 'Fatal(27)' 'Fatal(16)' 'Fatal(228)' 'Fatal(13)']\n"
     ]
    }
   ],
   "source": [
    "print(unique_injury_severity)"
   ]
  },
  {
   "cell_type": "code",
   "execution_count": 20,
   "metadata": {},
   "outputs": [
    {
     "name": "stdout",
     "output_type": "stream",
     "text": [
      "[  0.   1.   2.   3.   8.   4.   7.   6.   5.  12.  11.  27.  16. 228.\n",
      "  13.]\n"
     ]
    }
   ],
   "source": [
    "print(unique_fatal_injuries)"
   ]
  },
  {
   "cell_type": "code",
   "execution_count": 21,
   "metadata": {},
   "outputs": [
    {
     "name": "stdout",
     "output_type": "stream",
     "text": [
      "['Substantial' 'Destroyed' 'Minor']\n"
     ]
    }
   ],
   "source": [
    "print(unique_aircraft_damage)"
   ]
  },
  {
   "cell_type": "code",
   "execution_count": 22,
   "metadata": {},
   "outputs": [
    {
     "name": "stdout",
     "output_type": "stream",
     "text": [
      "['VMC' 'IMC' 'UNK']\n"
     ]
    }
   ],
   "source": [
    "print(unique_weather_condition)"
   ]
  },
  {
   "cell_type": "code",
   "execution_count": 23,
   "metadata": {},
   "outputs": [
    {
     "name": "stdout",
     "output_type": "stream",
     "text": [
      "['Takeoff' 'Landing' 'Cruise' 'Taxi' 'Unknown' 'Approach' 'Descent'\n",
      " 'Maneuvering' 'Climb' 'Standing' 'Go-around' 'Other']\n"
     ]
    }
   ],
   "source": [
    "print(unique_broad_phase_of_flight)"
   ]
  },
  {
   "cell_type": "code",
   "execution_count": 24,
   "metadata": {},
   "outputs": [
    {
     "data": {
      "text/plain": [
       "dtype('float64')"
      ]
     },
     "execution_count": 24,
     "metadata": {},
     "output_type": "execute_result"
    }
   ],
   "source": [
    "df_cleaned['total_fatal_injuries'].dtype"
   ]
  },
  {
   "cell_type": "code",
   "execution_count": 25,
   "metadata": {},
   "outputs": [
    {
     "data": {
      "text/plain": [
       "dtype('O')"
      ]
     },
     "execution_count": 25,
     "metadata": {},
     "output_type": "execute_result"
    }
   ],
   "source": [
    "df_cleaned['model'].dtype"
   ]
  },
  {
   "cell_type": "code",
   "execution_count": 26,
   "metadata": {},
   "outputs": [
    {
     "data": {
      "image/png": "[encoded data removed]",
      "text/plain": [
       "<Figure size 720x864 with 1 Axes>"
      ]
     },
     "metadata": {
      "needs_background": "light"
     },
     "output_type": "display_data"
    }
   ],
   "source": [
    "# Identify Outliers in columns with numerical data\n",
    "# Using boxplot\n",
    "#Box plot for number_of_engines\n",
    "fig, ax = plt.subplots(figsize=(10, 12))\n",
    "\n",
    "sns.boxplot(x='number_of_engines', data=df_cleaned, ax=ax)\n",
    "ax.set_xlabel('Number of Engines', fontsize=14)\n",
    "plt.title('No of Engines for the aircraft')\n",
    "plt.ylabel('Number of Engines')\n",
    "plt.tight_layout()\n",
    "plt.show()"
   ]
  },
  {
   "cell_type": "markdown",
   "metadata": {},
   "source": [
    "# Exploratory Data Analysis"
   ]
  },
  {
   "cell_type": "code",
   "execution_count": 27,
   "metadata": {},
   "outputs": [
    {
     "name": "stdout",
     "output_type": "stream",
     "text": [
      "<class 'pandas.core.frame.DataFrame'>\n",
      "Index: 3630 entries, 20020909X01562 to 20080109X00032\n",
      "Data columns (total 30 columns):\n",
      " #   Column                  Non-Null Count  Dtype  \n",
      "---  ------                  --------------  -----  \n",
      " 0   investigation_type      3630 non-null   object \n",
      " 1   accident_number         3630 non-null   object \n",
      " 2   event_date              3630 non-null   object \n",
      " 3   location                3630 non-null   object \n",
      " 4   country                 3621 non-null   object \n",
      " 5   latitude                115 non-null    object \n",
      " 6   longitude               115 non-null    object \n",
      " 7   airport_code            1732 non-null   object \n",
      " 8   airport_name            2213 non-null   object \n",
      " 9   injury_severity         3630 non-null   object \n",
      " 10  aircraft_damage         3630 non-null   object \n",
      " 11  aircraft_category       3630 non-null   object \n",
      " 12  registration_number     3630 non-null   object \n",
      " 13  make                    3630 non-null   object \n",
      " 14  model                   3630 non-null   object \n",
      " 15  amateur_built           3630 non-null   object \n",
      " 16  number_of_engines       3630 non-null   float64\n",
      " 17  engine_type             3624 non-null   object \n",
      " 18  far_description         3630 non-null   object \n",
      " 19  schedule                518 non-null    object \n",
      " 20  purpose_of_flight       3618 non-null   object \n",
      " 21  air_carrier             211 non-null    object \n",
      " 22  total_fatal_injuries    3630 non-null   float64\n",
      " 23  total_serious_injuries  3630 non-null   float64\n",
      " 24  total_minor_injuries    3598 non-null   float64\n",
      " 25  total_uninjured         3593 non-null   float64\n",
      " 26  weather_condition       3630 non-null   object \n",
      " 27  broad_phase_of_flight   3630 non-null   object \n",
      " 28  report_status           3630 non-null   object \n",
      " 29  publication_date        3630 non-null   object \n",
      "dtypes: float64(5), object(25)\n",
      "memory usage: 879.1+ KB\n"
     ]
    }
   ],
   "source": [
    "# Describe the cleaned data of #df_cleaned DataFrme\n",
    "df_cleaned.info()"
   ]
  },
  {
   "cell_type": "markdown",
   "metadata": {},
   "source": []
  },
  {
   "cell_type": "code",
   "execution_count": 28,
   "metadata": {},
   "outputs": [
    {
     "data": {
      "text/html": [
       "<div>\n",
       "<style scoped>\n",
       "    .dataframe tbody tr th:only-of-type {\n",
       "        vertical-align: middle;\n",
       "    }\n",
       "\n",
       "    .dataframe tbody tr th {\n",
       "        vertical-align: top;\n",
       "    }\n",
       "\n",
       "    .dataframe thead th {\n",
       "        text-align: right;\n",
       "    }\n",
       "</style>\n",
       "<table border=\"1\" class=\"dataframe\">\n",
       "  <thead>\n",
       "    <tr style=\"text-align: right;\">\n",
       "      <th></th>\n",
       "      <th>number_of_engines</th>\n",
       "      <th>total_fatal_injuries</th>\n",
       "      <th>total_serious_injuries</th>\n",
       "      <th>total_minor_injuries</th>\n",
       "      <th>total_uninjured</th>\n",
       "    </tr>\n",
       "  </thead>\n",
       "  <tbody>\n",
       "    <tr>\n",
       "      <th>count</th>\n",
       "      <td>3630.000000</td>\n",
       "      <td>3630.000000</td>\n",
       "      <td>3630.000000</td>\n",
       "      <td>3598.000000</td>\n",
       "      <td>3593.000000</td>\n",
       "    </tr>\n",
       "    <tr>\n",
       "      <th>mean</th>\n",
       "      <td>1.132782</td>\n",
       "      <td>0.491185</td>\n",
       "      <td>0.223691</td>\n",
       "      <td>0.279878</td>\n",
       "      <td>2.148066</td>\n",
       "    </tr>\n",
       "    <tr>\n",
       "      <th>std</th>\n",
       "      <td>0.419292</td>\n",
       "      <td>3.957657</td>\n",
       "      <td>0.800999</td>\n",
       "      <td>1.095796</td>\n",
       "      <td>12.992816</td>\n",
       "    </tr>\n",
       "    <tr>\n",
       "      <th>min</th>\n",
       "      <td>0.000000</td>\n",
       "      <td>0.000000</td>\n",
       "      <td>0.000000</td>\n",
       "      <td>0.000000</td>\n",
       "      <td>0.000000</td>\n",
       "    </tr>\n",
       "    <tr>\n",
       "      <th>25%</th>\n",
       "      <td>1.000000</td>\n",
       "      <td>0.000000</td>\n",
       "      <td>0.000000</td>\n",
       "      <td>0.000000</td>\n",
       "      <td>0.000000</td>\n",
       "    </tr>\n",
       "    <tr>\n",
       "      <th>50%</th>\n",
       "      <td>1.000000</td>\n",
       "      <td>0.000000</td>\n",
       "      <td>0.000000</td>\n",
       "      <td>0.000000</td>\n",
       "      <td>1.000000</td>\n",
       "    </tr>\n",
       "    <tr>\n",
       "      <th>75%</th>\n",
       "      <td>1.000000</td>\n",
       "      <td>0.000000</td>\n",
       "      <td>0.000000</td>\n",
       "      <td>0.000000</td>\n",
       "      <td>2.000000</td>\n",
       "    </tr>\n",
       "    <tr>\n",
       "      <th>max</th>\n",
       "      <td>4.000000</td>\n",
       "      <td>228.000000</td>\n",
       "      <td>26.000000</td>\n",
       "      <td>33.000000</td>\n",
       "      <td>393.000000</td>\n",
       "    </tr>\n",
       "  </tbody>\n",
       "</table>\n",
       "</div>"
      ],
      "text/plain": [
       "       number_of_engines  total_fatal_injuries  total_serious_injuries  \\\n",
       "count        3630.000000           3630.000000             3630.000000   \n",
       "mean            1.132782              0.491185                0.223691   \n",
       "std             0.419292              3.957657                0.800999   \n",
       "min             0.000000              0.000000                0.000000   \n",
       "25%             1.000000              0.000000                0.000000   \n",
       "50%             1.000000              0.000000                0.000000   \n",
       "75%             1.000000              0.000000                0.000000   \n",
       "max             4.000000            228.000000               26.000000   \n",
       "\n",
       "       total_minor_injuries  total_uninjured  \n",
       "count           3598.000000      3593.000000  \n",
       "mean               0.279878         2.148066  \n",
       "std                1.095796        12.992816  \n",
       "min                0.000000         0.000000  \n",
       "25%                0.000000         0.000000  \n",
       "50%                0.000000         1.000000  \n",
       "75%                0.000000         2.000000  \n",
       "max               33.000000       393.000000  "
      ]
     },
     "execution_count": 28,
     "metadata": {},
     "output_type": "execute_result"
    }
   ],
   "source": [
    "# Find statistics of the numerical data\n",
    "df_cleaned.describe()"
   ]
  },
  {
   "cell_type": "code",
   "execution_count": 29,
   "metadata": {},
   "outputs": [
    {
     "name": "stderr",
     "output_type": "stream",
     "text": [
      "<ipython-input-29-bbffe3daea50>:2: FutureWarning: Dropping of nuisance columns in DataFrame reductions (with 'numeric_only=None') is deprecated; in a future version this will raise TypeError.  Select only valid columns before calling the reduction.\n",
      "  df_cleaned.mean()\n"
     ]
    },
    {
     "data": {
      "text/plain": [
       "number_of_engines         1.132782\n",
       "total_fatal_injuries      0.491185\n",
       "total_serious_injuries    0.223691\n",
       "total_minor_injuries      0.279878\n",
       "total_uninjured           2.148066\n",
       "dtype: float64"
      ]
     },
     "execution_count": 29,
     "metadata": {},
     "output_type": "execute_result"
    }
   ],
   "source": [
    "# get the mean of every numerical data\n",
    "df_cleaned.mean()"
   ]
  },
  {
   "cell_type": "code",
   "execution_count": 30,
   "metadata": {},
   "outputs": [
    {
     "data": {
      "text/plain": [
       "0.0"
      ]
     },
     "execution_count": 30,
     "metadata": {},
     "output_type": "execute_result"
    }
   ],
   "source": [
    "df_cleaned['total_fatal_injuries'].median()"
   ]
  },
  {
   "cell_type": "code",
   "execution_count": 31,
   "metadata": {},
   "outputs": [
    {
     "data": {
      "text/plain": [
       "0.0"
      ]
     },
     "execution_count": 31,
     "metadata": {},
     "output_type": "execute_result"
    }
   ],
   "source": [
    "df_cleaned['total_minor_injuries'].median()"
   ]
  },
  {
   "cell_type": "code",
   "execution_count": 32,
   "metadata": {},
   "outputs": [
    {
     "data": {
      "text/plain": [
       "0.0"
      ]
     },
     "execution_count": 32,
     "metadata": {},
     "output_type": "execute_result"
    }
   ],
   "source": [
    "df_cleaned['total_serious_injuries'].median()"
   ]
  },
  {
   "cell_type": "code",
   "execution_count": 33,
   "metadata": {},
   "outputs": [
    {
     "data": {
      "text/plain": [
       "152          135\n",
       "172           98\n",
       "150           76\n",
       "PA-28-140     67\n",
       "172N          66\n",
       "            ... \n",
       "315B           1\n",
       "65-90          1\n",
       "280            1\n",
       "DR-1           1\n",
       "206L-3         1\n",
       "Name: model, Length: 1111, dtype: int64"
      ]
     },
     "execution_count": 33,
     "metadata": {},
     "output_type": "execute_result"
    }
   ],
   "source": [
    "# what is ths counts for the different models\n",
    "df_cleaned['model'].value_counts()"
   ]
  },
  {
   "cell_type": "code",
   "execution_count": 34,
   "metadata": {},
   "outputs": [
    {
     "data": {
      "text/plain": [
       "Landing        931\n",
       "Takeoff        769\n",
       "Cruise         624\n",
       "Maneuvering    442\n",
       "Approach       399\n",
       "Taxi           128\n",
       "Descent         97\n",
       "Climb           93\n",
       "Go-around       57\n",
       "Unknown         51\n",
       "Standing        26\n",
       "Other           13\n",
       "Name: broad_phase_of_flight, dtype: int64"
      ]
     },
     "execution_count": 34,
     "metadata": {},
     "output_type": "execute_result"
    }
   ],
   "source": [
    "# what is the count for the broad_phase_of_flight\n",
    "df_cleaned['broad_phase_of_flight'].value_counts()"
   ]
  },
  {
   "cell_type": "markdown",
   "metadata": {},
   "source": [
    "# Aircraft with low or no total_fatal_injuries"
   ]
  },
  {
   "cell_type": "code",
   "execution_count": 35,
   "metadata": {},
   "outputs": [
    {
     "data": {
      "text/plain": [
       "0.0      2896\n",
       "1.0       331\n",
       "2.0       218\n",
       "3.0        86\n",
       "4.0        56\n",
       "5.0        14\n",
       "6.0        12\n",
       "8.0         8\n",
       "7.0         3\n",
       "12.0        1\n",
       "11.0        1\n",
       "27.0        1\n",
       "16.0        1\n",
       "228.0       1\n",
       "13.0        1\n",
       "Name: total_fatal_injuries, dtype: int64"
      ]
     },
     "execution_count": 35,
     "metadata": {},
     "output_type": "execute_result"
    }
   ],
   "source": [
    "df_cleaned['total_fatal_injuries'].value_counts()"
   ]
  },
  {
   "cell_type": "code",
   "execution_count": 36,
   "metadata": {},
   "outputs": [
    {
     "data": {
      "text/plain": [
       "[0.0,\n",
       " 1.0,\n",
       " 2.0,\n",
       " 3.0,\n",
       " 4.0,\n",
       " 5.0,\n",
       " 6.0,\n",
       " 8.0,\n",
       " 7.0,\n",
       " 12.0,\n",
       " 11.0,\n",
       " 27.0,\n",
       " 16.0,\n",
       " 228.0,\n",
       " 13.0]"
      ]
     },
     "execution_count": 36,
     "metadata": {},
     "output_type": "execute_result"
    }
   ],
   "source": [
    "# aircraft with the top ten most fatalities \n",
    "\n",
    "top_20_fatalities = list((df_cleaned['total_fatal_injuries'].value_counts()).head(20).index)\n",
    "top_20_fatalities"
   ]
  },
  {
   "cell_type": "markdown",
   "metadata": {},
   "source": [
    "## 20 aircraft models with the LEAST number of total_fatal_injuries"
   ]
  },
  {
   "cell_type": "code",
   "execution_count": 37,
   "metadata": {},
   "outputs": [
    {
     "data": {
      "text/html": [
       "<div>\n",
       "<style scoped>\n",
       "    .dataframe tbody tr th:only-of-type {\n",
       "        vertical-align: middle;\n",
       "    }\n",
       "\n",
       "    .dataframe tbody tr th {\n",
       "        vertical-align: top;\n",
       "    }\n",
       "\n",
       "    .dataframe thead th {\n",
       "        text-align: right;\n",
       "    }\n",
       "</style>\n",
       "<table border=\"1\" class=\"dataframe\">\n",
       "  <thead>\n",
       "    <tr style=\"text-align: right;\">\n",
       "      <th></th>\n",
       "      <th>model</th>\n",
       "      <th>total_fatal_injuries</th>\n",
       "    </tr>\n",
       "  </thead>\n",
       "  <tbody>\n",
       "    <tr>\n",
       "      <th>0</th>\n",
       "      <td>(SOLOY CONVERSION)</td>\n",
       "      <td>0.0</td>\n",
       "    </tr>\n",
       "    <tr>\n",
       "      <th>641</th>\n",
       "      <td>G-164C</td>\n",
       "      <td>0.0</td>\n",
       "    </tr>\n",
       "    <tr>\n",
       "      <th>642</th>\n",
       "      <td>G-21A</td>\n",
       "      <td>0.0</td>\n",
       "    </tr>\n",
       "    <tr>\n",
       "      <th>644</th>\n",
       "      <td>G-IV</td>\n",
       "      <td>0.0</td>\n",
       "    </tr>\n",
       "    <tr>\n",
       "      <th>645</th>\n",
       "      <td>G164A</td>\n",
       "      <td>0.0</td>\n",
       "    </tr>\n",
       "    <tr>\n",
       "      <th>646</th>\n",
       "      <td>G164B</td>\n",
       "      <td>0.0</td>\n",
       "    </tr>\n",
       "    <tr>\n",
       "      <th>647</th>\n",
       "      <td>G18S</td>\n",
       "      <td>0.0</td>\n",
       "    </tr>\n",
       "    <tr>\n",
       "      <th>651</th>\n",
       "      <td>GOLDWING</td>\n",
       "      <td>0.0</td>\n",
       "    </tr>\n",
       "    <tr>\n",
       "      <th>652</th>\n",
       "      <td>GYROCOPTER</td>\n",
       "      <td>0.0</td>\n",
       "    </tr>\n",
       "    <tr>\n",
       "      <th>653</th>\n",
       "      <td>Glasair III</td>\n",
       "      <td>0.0</td>\n",
       "    </tr>\n",
       "    <tr>\n",
       "      <th>654</th>\n",
       "      <td>H-18</td>\n",
       "      <td>0.0</td>\n",
       "    </tr>\n",
       "    <tr>\n",
       "      <th>655</th>\n",
       "      <td>H-19</td>\n",
       "      <td>0.0</td>\n",
       "    </tr>\n",
       "    <tr>\n",
       "      <th>656</th>\n",
       "      <td>H-19A</td>\n",
       "      <td>0.0</td>\n",
       "    </tr>\n",
       "    <tr>\n",
       "      <th>657</th>\n",
       "      <td>H-295</td>\n",
       "      <td>0.0</td>\n",
       "    </tr>\n",
       "    <tr>\n",
       "      <th>658</th>\n",
       "      <td>H-369HS</td>\n",
       "      <td>0.0</td>\n",
       "    </tr>\n",
       "    <tr>\n",
       "      <th>659</th>\n",
       "      <td>H-395</td>\n",
       "      <td>0.0</td>\n",
       "    </tr>\n",
       "    <tr>\n",
       "      <th>663</th>\n",
       "      <td>HH-43F</td>\n",
       "      <td>0.0</td>\n",
       "    </tr>\n",
       "    <tr>\n",
       "      <th>664</th>\n",
       "      <td>HM293</td>\n",
       "      <td>0.0</td>\n",
       "    </tr>\n",
       "    <tr>\n",
       "      <th>665</th>\n",
       "      <td>HP-10</td>\n",
       "      <td>0.0</td>\n",
       "    </tr>\n",
       "    <tr>\n",
       "      <th>666</th>\n",
       "      <td>HP-18</td>\n",
       "      <td>0.0</td>\n",
       "    </tr>\n",
       "  </tbody>\n",
       "</table>\n",
       "</div>"
      ],
      "text/plain": [
       "                  model  total_fatal_injuries\n",
       "0    (SOLOY CONVERSION)                   0.0\n",
       "641              G-164C                   0.0\n",
       "642               G-21A                   0.0\n",
       "644                G-IV                   0.0\n",
       "645               G164A                   0.0\n",
       "646               G164B                   0.0\n",
       "647                G18S                   0.0\n",
       "651            GOLDWING                   0.0\n",
       "652          GYROCOPTER                   0.0\n",
       "653         Glasair III                   0.0\n",
       "654                H-18                   0.0\n",
       "655                H-19                   0.0\n",
       "656               H-19A                   0.0\n",
       "657               H-295                   0.0\n",
       "658             H-369HS                   0.0\n",
       "659               H-395                   0.0\n",
       "663              HH-43F                   0.0\n",
       "664               HM293                   0.0\n",
       "665               HP-10                   0.0\n",
       "666               HP-18                   0.0"
      ]
     },
     "execution_count": 37,
     "metadata": {},
     "output_type": "execute_result"
    }
   ],
   "source": [
    "#top 10 least fatalities\n",
    "top_20_total_fatal_injuries = df_cleaned.groupby(\"model\").agg(total_fatal_injuries=('total_fatal_injuries', 'sum') ).reset_index() \n",
    "\n",
    "# LEAST FATAL INJURIES: Sort by total fatal injuries in ascending order to get the least fatalities \n",
    "top_20_least_fatalities = top_20_total_fatal_injuries.sort_values(\"total_fatal_injuries\", ascending=True).head(20) \n",
    "top_20_least_fatalities"
   ]
  },
  {
   "cell_type": "markdown",
   "metadata": {},
   "source": [
    "# 20 most aircraft models with the least number of total serious injuries"
   ]
  },
  {
   "cell_type": "code",
   "execution_count": 38,
   "metadata": {},
   "outputs": [],
   "source": [
    "#top 20 least total serious injuries\n",
    "top_20_total_serious_injuries = df_cleaned.groupby(\"model\").agg(total_serious_injuries=('total_serious_injuries', 'sum') ).reset_index() "
   ]
  },
  {
   "cell_type": "code",
   "execution_count": 39,
   "metadata": {},
   "outputs": [
    {
     "data": {
      "text/html": [
       "<div>\n",
       "<style scoped>\n",
       "    .dataframe tbody tr th:only-of-type {\n",
       "        vertical-align: middle;\n",
       "    }\n",
       "\n",
       "    .dataframe tbody tr th {\n",
       "        vertical-align: top;\n",
       "    }\n",
       "\n",
       "    .dataframe thead th {\n",
       "        text-align: right;\n",
       "    }\n",
       "</style>\n",
       "<table border=\"1\" class=\"dataframe\">\n",
       "  <thead>\n",
       "    <tr style=\"text-align: right;\">\n",
       "      <th></th>\n",
       "      <th>model</th>\n",
       "      <th>total_serious_injuries</th>\n",
       "    </tr>\n",
       "  </thead>\n",
       "  <tbody>\n",
       "    <tr>\n",
       "      <th>0</th>\n",
       "      <td>(SOLOY CONVERSION)</td>\n",
       "      <td>0.0</td>\n",
       "    </tr>\n",
       "    <tr>\n",
       "      <th>656</th>\n",
       "      <td>H-19A</td>\n",
       "      <td>0.0</td>\n",
       "    </tr>\n",
       "    <tr>\n",
       "      <th>657</th>\n",
       "      <td>H-295</td>\n",
       "      <td>0.0</td>\n",
       "    </tr>\n",
       "    <tr>\n",
       "      <th>658</th>\n",
       "      <td>H-369HS</td>\n",
       "      <td>0.0</td>\n",
       "    </tr>\n",
       "    <tr>\n",
       "      <th>659</th>\n",
       "      <td>H-395</td>\n",
       "      <td>0.0</td>\n",
       "    </tr>\n",
       "    <tr>\n",
       "      <th>660</th>\n",
       "      <td>H35</td>\n",
       "      <td>0.0</td>\n",
       "    </tr>\n",
       "    <tr>\n",
       "      <th>661</th>\n",
       "      <td>HAMLIN</td>\n",
       "      <td>0.0</td>\n",
       "    </tr>\n",
       "    <tr>\n",
       "      <th>662</th>\n",
       "      <td>HAWK</td>\n",
       "      <td>0.0</td>\n",
       "    </tr>\n",
       "    <tr>\n",
       "      <th>663</th>\n",
       "      <td>HH-43F</td>\n",
       "      <td>0.0</td>\n",
       "    </tr>\n",
       "    <tr>\n",
       "      <th>664</th>\n",
       "      <td>HM293</td>\n",
       "      <td>0.0</td>\n",
       "    </tr>\n",
       "    <tr>\n",
       "      <th>665</th>\n",
       "      <td>HP-10</td>\n",
       "      <td>0.0</td>\n",
       "    </tr>\n",
       "    <tr>\n",
       "      <th>666</th>\n",
       "      <td>HP-18</td>\n",
       "      <td>0.0</td>\n",
       "    </tr>\n",
       "    <tr>\n",
       "      <th>667</th>\n",
       "      <td>HWW-75</td>\n",
       "      <td>0.0</td>\n",
       "    </tr>\n",
       "    <tr>\n",
       "      <th>669</th>\n",
       "      <td>INTL S-2R</td>\n",
       "      <td>0.0</td>\n",
       "    </tr>\n",
       "    <tr>\n",
       "      <th>672</th>\n",
       "      <td>J-3</td>\n",
       "      <td>0.0</td>\n",
       "    </tr>\n",
       "    <tr>\n",
       "      <th>674</th>\n",
       "      <td>J-3C65</td>\n",
       "      <td>0.0</td>\n",
       "    </tr>\n",
       "    <tr>\n",
       "      <th>675</th>\n",
       "      <td>J3</td>\n",
       "      <td>0.0</td>\n",
       "    </tr>\n",
       "    <tr>\n",
       "      <th>676</th>\n",
       "      <td>J3-F65</td>\n",
       "      <td>0.0</td>\n",
       "    </tr>\n",
       "    <tr>\n",
       "      <th>677</th>\n",
       "      <td>J35</td>\n",
       "      <td>0.0</td>\n",
       "    </tr>\n",
       "    <tr>\n",
       "      <th>679</th>\n",
       "      <td>J3C-75</td>\n",
       "      <td>0.0</td>\n",
       "    </tr>\n",
       "  </tbody>\n",
       "</table>\n",
       "</div>"
      ],
      "text/plain": [
       "                  model  total_serious_injuries\n",
       "0    (SOLOY CONVERSION)                     0.0\n",
       "656               H-19A                     0.0\n",
       "657               H-295                     0.0\n",
       "658             H-369HS                     0.0\n",
       "659               H-395                     0.0\n",
       "660                 H35                     0.0\n",
       "661              HAMLIN                     0.0\n",
       "662                HAWK                     0.0\n",
       "663              HH-43F                     0.0\n",
       "664               HM293                     0.0\n",
       "665               HP-10                     0.0\n",
       "666               HP-18                     0.0\n",
       "667              HWW-75                     0.0\n",
       "669           INTL S-2R                     0.0\n",
       "672                 J-3                     0.0\n",
       "674              J-3C65                     0.0\n",
       "675                  J3                     0.0\n",
       "676              J3-F65                     0.0\n",
       "677                 J35                     0.0\n",
       "679              J3C-75                     0.0"
      ]
     },
     "execution_count": 39,
     "metadata": {},
     "output_type": "execute_result"
    }
   ],
   "source": [
    "# Least total serious injuries: Sort by total fatal injuries in ascending order to get the least fatalities \n",
    "top_20_least_total_serious_injuries = top_20_total_serious_injuries.sort_values('total_serious_injuries', ascending=True).head(20) \n",
    "top_20_least_total_serious_injuries"
   ]
  },
  {
   "cell_type": "markdown",
   "metadata": {},
   "source": [
    "## 20 most aircraft models with the MOST number of total_fatal_injuries"
   ]
  },
  {
   "cell_type": "code",
   "execution_count": 40,
   "metadata": {},
   "outputs": [
    {
     "data": {
      "text/html": [
       "<div>\n",
       "<style scoped>\n",
       "    .dataframe tbody tr th:only-of-type {\n",
       "        vertical-align: middle;\n",
       "    }\n",
       "\n",
       "    .dataframe tbody tr th {\n",
       "        vertical-align: top;\n",
       "    }\n",
       "\n",
       "    .dataframe thead th {\n",
       "        text-align: right;\n",
       "    }\n",
       "</style>\n",
       "<table border=\"1\" class=\"dataframe\">\n",
       "  <thead>\n",
       "    <tr style=\"text-align: right;\">\n",
       "      <th></th>\n",
       "      <th>model</th>\n",
       "      <th>total_fatal_injuries</th>\n",
       "    </tr>\n",
       "  </thead>\n",
       "  <tbody>\n",
       "    <tr>\n",
       "      <th>351</th>\n",
       "      <td>747-300</td>\n",
       "      <td>228.0</td>\n",
       "    </tr>\n",
       "    <tr>\n",
       "      <th>72</th>\n",
       "      <td>172N</td>\n",
       "      <td>36.0</td>\n",
       "    </tr>\n",
       "    <tr>\n",
       "      <th>825</th>\n",
       "      <td>PA-28-161</td>\n",
       "      <td>34.0</td>\n",
       "    </tr>\n",
       "    <tr>\n",
       "      <th>821</th>\n",
       "      <td>PA-28-140</td>\n",
       "      <td>32.0</td>\n",
       "    </tr>\n",
       "    <tr>\n",
       "      <th>208</th>\n",
       "      <td>28-4000</td>\n",
       "      <td>27.0</td>\n",
       "    </tr>\n",
       "    <tr>\n",
       "      <th>151</th>\n",
       "      <td>206B</td>\n",
       "      <td>23.0</td>\n",
       "    </tr>\n",
       "    <tr>\n",
       "      <th>58</th>\n",
       "      <td>172</td>\n",
       "      <td>22.0</td>\n",
       "    </tr>\n",
       "    <tr>\n",
       "      <th>1044</th>\n",
       "      <td>T210M</td>\n",
       "      <td>19.0</td>\n",
       "    </tr>\n",
       "    <tr>\n",
       "      <th>71</th>\n",
       "      <td>172M</td>\n",
       "      <td>19.0</td>\n",
       "    </tr>\n",
       "    <tr>\n",
       "      <th>45</th>\n",
       "      <td>152</td>\n",
       "      <td>18.0</td>\n",
       "    </tr>\n",
       "    <tr>\n",
       "      <th>588</th>\n",
       "      <td>DHC-6-200</td>\n",
       "      <td>16.0</td>\n",
       "    </tr>\n",
       "    <tr>\n",
       "      <th>405</th>\n",
       "      <td>A36</td>\n",
       "      <td>14.0</td>\n",
       "    </tr>\n",
       "    <tr>\n",
       "      <th>73</th>\n",
       "      <td>172P</td>\n",
       "      <td>14.0</td>\n",
       "    </tr>\n",
       "    <tr>\n",
       "      <th>172</th>\n",
       "      <td>210L</td>\n",
       "      <td>14.0</td>\n",
       "    </tr>\n",
       "    <tr>\n",
       "      <th>685</th>\n",
       "      <td>Jetstream 32</td>\n",
       "      <td>13.0</td>\n",
       "    </tr>\n",
       "    <tr>\n",
       "      <th>113</th>\n",
       "      <td>182Q</td>\n",
       "      <td>13.0</td>\n",
       "    </tr>\n",
       "    <tr>\n",
       "      <th>98</th>\n",
       "      <td>182</td>\n",
       "      <td>13.0</td>\n",
       "    </tr>\n",
       "    <tr>\n",
       "      <th>43</th>\n",
       "      <td>150L</td>\n",
       "      <td>13.0</td>\n",
       "    </tr>\n",
       "    <tr>\n",
       "      <th>583</th>\n",
       "      <td>DHC-2</td>\n",
       "      <td>13.0</td>\n",
       "    </tr>\n",
       "    <tr>\n",
       "      <th>774</th>\n",
       "      <td>P210N</td>\n",
       "      <td>13.0</td>\n",
       "    </tr>\n",
       "  </tbody>\n",
       "</table>\n",
       "</div>"
      ],
      "text/plain": [
       "             model  total_fatal_injuries\n",
       "351        747-300                 228.0\n",
       "72            172N                  36.0\n",
       "825      PA-28-161                  34.0\n",
       "821      PA-28-140                  32.0\n",
       "208        28-4000                  27.0\n",
       "151           206B                  23.0\n",
       "58             172                  22.0\n",
       "1044         T210M                  19.0\n",
       "71            172M                  19.0\n",
       "45             152                  18.0\n",
       "588      DHC-6-200                  16.0\n",
       "405            A36                  14.0\n",
       "73            172P                  14.0\n",
       "172           210L                  14.0\n",
       "685   Jetstream 32                  13.0\n",
       "113           182Q                  13.0\n",
       "98             182                  13.0\n",
       "43            150L                  13.0\n",
       "583          DHC-2                  13.0\n",
       "774          P210N                  13.0"
      ]
     },
     "execution_count": 40,
     "metadata": {},
     "output_type": "execute_result"
    }
   ],
   "source": [
    "# top 20 most fatalities\n",
    "\n",
    "top_20_total_fatal_injuries = df_cleaned.groupby(\"model\").agg(total_fatal_injuries=('total_fatal_injuries', 'sum') ).reset_index() \n",
    "\n",
    "# Sort by total fatal injuries in descending order to get the most fatalities \n",
    "top_20_most_fatalities = top_20_total_fatal_injuries.sort_values(\"total_fatal_injuries\", ascending=False).head(20) \n",
    "\n",
    "top_20_most_fatalities\n"
   ]
  },
  {
   "cell_type": "markdown",
   "metadata": {},
   "source": [
    "# Data Visualisation "
   ]
  },
  {
   "cell_type": "markdown",
   "metadata": {},
   "source": [
    "## Bar Charts"
   ]
  },
  {
   "cell_type": "code",
   "execution_count": 41,
   "metadata": {},
   "outputs": [
    {
     "data": {
      "image/png": "[encoded data removed]",
      "text/plain": [
       "<Figure size 1440x576 with 1 Axes>"
      ]
     },
     "metadata": {
      "needs_background": "light"
     },
     "output_type": "display_data"
    }
   ],
   "source": [
    "\n",
    "# Plot the top 20 aircraft models with the most fatalities\n",
    "plt.figure(figsize=(20, 8))\n",
    "plt.barh(top_20_most_fatalities[\"model\"], top_20_most_fatalities[\"total_fatal_injuries\"], color='blue')\n",
    "plt.xlabel(\"Total Fatalities\")\n",
    "plt.ylabel(\"Aircraft Models\")\n",
    "plt.title(\"Top 20 Aircraft Models with most Fatalities\")\n",
    "plt.show()"
   ]
  },
  {
   "cell_type": "code",
   "execution_count": 42,
   "metadata": {},
   "outputs": [
    {
     "data": {
      "text/html": [
       "<div>\n",
       "<style scoped>\n",
       "    .dataframe tbody tr th:only-of-type {\n",
       "        vertical-align: middle;\n",
       "    }\n",
       "\n",
       "    .dataframe tbody tr th {\n",
       "        vertical-align: top;\n",
       "    }\n",
       "\n",
       "    .dataframe thead th {\n",
       "        text-align: right;\n",
       "    }\n",
       "</style>\n",
       "<table border=\"1\" class=\"dataframe\">\n",
       "  <thead>\n",
       "    <tr style=\"text-align: right;\">\n",
       "      <th></th>\n",
       "      <th>make</th>\n",
       "      <th>total_fatal_injuries</th>\n",
       "    </tr>\n",
       "  </thead>\n",
       "  <tbody>\n",
       "    <tr>\n",
       "      <th>0</th>\n",
       "      <td>Adams</td>\n",
       "      <td>0.0</td>\n",
       "    </tr>\n",
       "    <tr>\n",
       "      <th>1</th>\n",
       "      <td>Aero Commander</td>\n",
       "      <td>7.0</td>\n",
       "    </tr>\n",
       "    <tr>\n",
       "      <th>2</th>\n",
       "      <td>Aeronca</td>\n",
       "      <td>13.0</td>\n",
       "    </tr>\n",
       "    <tr>\n",
       "      <th>3</th>\n",
       "      <td>Aeronca Champ</td>\n",
       "      <td>0.0</td>\n",
       "    </tr>\n",
       "    <tr>\n",
       "      <th>4</th>\n",
       "      <td>Aeronca Champion</td>\n",
       "      <td>0.0</td>\n",
       "    </tr>\n",
       "    <tr>\n",
       "      <th>...</th>\n",
       "      <td>...</td>\n",
       "      <td>...</td>\n",
       "    </tr>\n",
       "    <tr>\n",
       "      <th>308</th>\n",
       "      <td>Weatherly</td>\n",
       "      <td>0.0</td>\n",
       "    </tr>\n",
       "    <tr>\n",
       "      <th>309</th>\n",
       "      <td>Wing</td>\n",
       "      <td>2.0</td>\n",
       "    </tr>\n",
       "    <tr>\n",
       "      <th>310</th>\n",
       "      <td>Wootton, John</td>\n",
       "      <td>1.0</td>\n",
       "    </tr>\n",
       "    <tr>\n",
       "      <th>311</th>\n",
       "      <td>Wrb Associates, Llc.</td>\n",
       "      <td>1.0</td>\n",
       "    </tr>\n",
       "    <tr>\n",
       "      <th>312</th>\n",
       "      <td>Yakovlev</td>\n",
       "      <td>2.0</td>\n",
       "    </tr>\n",
       "  </tbody>\n",
       "</table>\n",
       "<p>313 rows × 2 columns</p>\n",
       "</div>"
      ],
      "text/plain": [
       "                     make  total_fatal_injuries\n",
       "0                   Adams                   0.0\n",
       "1          Aero Commander                   7.0\n",
       "2                 Aeronca                  13.0\n",
       "3           Aeronca Champ                   0.0\n",
       "4        Aeronca Champion                   0.0\n",
       "..                    ...                   ...\n",
       "308             Weatherly                   0.0\n",
       "309                  Wing                   2.0\n",
       "310         Wootton, John                   1.0\n",
       "311  Wrb Associates, Llc.                   1.0\n",
       "312              Yakovlev                   2.0\n",
       "\n",
       "[313 rows x 2 columns]"
      ]
     },
     "execution_count": 42,
     "metadata": {},
     "output_type": "execute_result"
    }
   ],
   "source": [
    "# total_fatal_injuries by make\n",
    "\n",
    "top_fatal_injuries_make = df_cleaned.groupby('make').agg(total_fatal_injuries = ('total_fatal_injuries', 'sum') ).reset_index() \n",
    "\n",
    "top_fatal_injuries_make"
   ]
  },
  {
   "cell_type": "code",
   "execution_count": 43,
   "metadata": {},
   "outputs": [
    {
     "data": {
      "text/html": [
       "<div>\n",
       "<style scoped>\n",
       "    .dataframe tbody tr th:only-of-type {\n",
       "        vertical-align: middle;\n",
       "    }\n",
       "\n",
       "    .dataframe tbody tr th {\n",
       "        vertical-align: top;\n",
       "    }\n",
       "\n",
       "    .dataframe thead th {\n",
       "        text-align: right;\n",
       "    }\n",
       "</style>\n",
       "<table border=\"1\" class=\"dataframe\">\n",
       "  <thead>\n",
       "    <tr style=\"text-align: right;\">\n",
       "      <th></th>\n",
       "      <th>make</th>\n",
       "      <th>total_fatal_injuries</th>\n",
       "    </tr>\n",
       "  </thead>\n",
       "  <tbody>\n",
       "    <tr>\n",
       "      <th>71</th>\n",
       "      <td>Cessna</td>\n",
       "      <td>522.0</td>\n",
       "    </tr>\n",
       "    <tr>\n",
       "      <th>217</th>\n",
       "      <td>Piper</td>\n",
       "      <td>315.0</td>\n",
       "    </tr>\n",
       "    <tr>\n",
       "      <th>51</th>\n",
       "      <td>Boeing</td>\n",
       "      <td>236.0</td>\n",
       "    </tr>\n",
       "    <tr>\n",
       "      <th>33</th>\n",
       "      <td>Beech</td>\n",
       "      <td>140.0</td>\n",
       "    </tr>\n",
       "    <tr>\n",
       "      <th>35</th>\n",
       "      <td>Bell</td>\n",
       "      <td>48.0</td>\n",
       "    </tr>\n",
       "    <tr>\n",
       "      <th>97</th>\n",
       "      <td>De Havilland</td>\n",
       "      <td>38.0</td>\n",
       "    </tr>\n",
       "    <tr>\n",
       "      <th>195</th>\n",
       "      <td>Mooney</td>\n",
       "      <td>34.0</td>\n",
       "    </tr>\n",
       "    <tr>\n",
       "      <th>120</th>\n",
       "      <td>Fokker</td>\n",
       "      <td>27.0</td>\n",
       "    </tr>\n",
       "    <tr>\n",
       "      <th>42</th>\n",
       "      <td>Bellanca</td>\n",
       "      <td>24.0</td>\n",
       "    </tr>\n",
       "    <tr>\n",
       "      <th>236</th>\n",
       "      <td>Robertson</td>\n",
       "      <td>23.0</td>\n",
       "    </tr>\n",
       "    <tr>\n",
       "      <th>173</th>\n",
       "      <td>Lockheed</td>\n",
       "      <td>17.0</td>\n",
       "    </tr>\n",
       "    <tr>\n",
       "      <th>137</th>\n",
       "      <td>Grumman</td>\n",
       "      <td>17.0</td>\n",
       "    </tr>\n",
       "    <tr>\n",
       "      <th>110</th>\n",
       "      <td>Eurocopter</td>\n",
       "      <td>13.0</td>\n",
       "    </tr>\n",
       "    <tr>\n",
       "      <th>59</th>\n",
       "      <td>British Aerospace</td>\n",
       "      <td>13.0</td>\n",
       "    </tr>\n",
       "    <tr>\n",
       "      <th>2</th>\n",
       "      <td>Aeronca</td>\n",
       "      <td>13.0</td>\n",
       "    </tr>\n",
       "    <tr>\n",
       "      <th>192</th>\n",
       "      <td>Mitsubishi</td>\n",
       "      <td>12.0</td>\n",
       "    </tr>\n",
       "    <tr>\n",
       "      <th>5</th>\n",
       "      <td>Aerospatiale</td>\n",
       "      <td>12.0</td>\n",
       "    </tr>\n",
       "    <tr>\n",
       "      <th>179</th>\n",
       "      <td>Mbb</td>\n",
       "      <td>11.0</td>\n",
       "    </tr>\n",
       "    <tr>\n",
       "      <th>237</th>\n",
       "      <td>Robinson</td>\n",
       "      <td>9.0</td>\n",
       "    </tr>\n",
       "    <tr>\n",
       "      <th>138</th>\n",
       "      <td>Grumman American</td>\n",
       "      <td>9.0</td>\n",
       "    </tr>\n",
       "  </tbody>\n",
       "</table>\n",
       "</div>"
      ],
      "text/plain": [
       "                  make  total_fatal_injuries\n",
       "71              Cessna                 522.0\n",
       "217              Piper                 315.0\n",
       "51              Boeing                 236.0\n",
       "33               Beech                 140.0\n",
       "35                Bell                  48.0\n",
       "97        De Havilland                  38.0\n",
       "195             Mooney                  34.0\n",
       "120             Fokker                  27.0\n",
       "42            Bellanca                  24.0\n",
       "236          Robertson                  23.0\n",
       "173           Lockheed                  17.0\n",
       "137            Grumman                  17.0\n",
       "110         Eurocopter                  13.0\n",
       "59   British Aerospace                  13.0\n",
       "2              Aeronca                  13.0\n",
       "192         Mitsubishi                  12.0\n",
       "5         Aerospatiale                  12.0\n",
       "179                Mbb                  11.0\n",
       "237           Robinson                   9.0\n",
       "138   Grumman American                   9.0"
      ]
     },
     "execution_count": 43,
     "metadata": {},
     "output_type": "execute_result"
    }
   ],
   "source": [
    "# Plot the top 20 aircraft makes with the most fatalities\n",
    "top_20_most_fatalities_make = top_fatal_injuries_make.sort_values(\"total_fatal_injuries\", ascending=False).head(20) \n",
    "\n",
    "top_20_most_fatalities_make"
   ]
  },
  {
   "cell_type": "code",
   "execution_count": 44,
   "metadata": {},
   "outputs": [
    {
     "data": {
      "image/png": "[encoded data removed]",
      "text/plain": [
       "<Figure size 1440x720 with 1 Axes>"
      ]
     },
     "metadata": {
      "needs_background": "light"
     },
     "output_type": "display_data"
    }
   ],
   "source": [
    "# Plot the top 20 aircraft makes with the most fatalities\n",
    "plt.figure(figsize=(20, 10))\n",
    "plt.barh(top_20_most_fatalities_make[\"make\"], top_20_most_fatalities_make[\"total_fatal_injuries\"], color='green')\n",
    "plt.xlabel(\"Total Fatal Injuries\")\n",
    "plt.ylabel(\"Aircraft Make\")\n",
    "plt.title(\"Top 20 Aircraft Makes with most Fatalities\")\n",
    "plt.show()"
   ]
  },
  {
   "cell_type": "code",
   "execution_count": 45,
   "metadata": {},
   "outputs": [
    {
     "data": {
      "image/png": "[encoded data removed]",
      "text/plain": [
       "<Figure size 432x288 with 1 Axes>"
      ]
     },
     "metadata": {
      "needs_background": "light"
     },
     "output_type": "display_data"
    }
   ],
   "source": [
    "#ploting a histogram of total_fatal_injuries     \n",
    "df_cleaned['total_fatal_injuries'].plot(kind = 'hist');\n",
    "\n",
    "plt.xlabel('Total Fatal Injuries')\n",
    "plt.ylabel('Frequency')\n",
    "plt.title('Total Fatal Injuries Distribution')\n",
    "plt.axvline(df_cleaned['total_fatal_injuries'].mean(),color='red',linestyle='dashed',linewidth=3)\n",
    "plt.tight_layout() \n",
    "plt.show()"
   ]
  },
  {
   "cell_type": "code",
   "execution_count": 46,
   "metadata": {},
   "outputs": [
    {
     "name": "stdout",
     "output_type": "stream",
     "text": [
      "               investigation_type accident_number  event_date  \\\n",
      "Event.Id                                                        \n",
      "20020909X01562           Accident      SEA82DA022  1982-01-01   \n",
      "20020909X01561           Accident      NYC82DA015  1982-01-01   \n",
      "20020917X02148           Accident      FTW82FRJ07  1982-01-02   \n",
      "20020917X02134           Accident      FTW82FRA14  1982-01-02   \n",
      "20020917X02119           Accident      FTW82FPJ10  1982-01-02   \n",
      "...                           ...             ...         ...   \n",
      "20080108X00030           Accident      CHI08FA055  2007-12-27   \n",
      "20080102X00006           Accident      SEA08LA054  2007-12-28   \n",
      "20080103X00010           Accident      DFW08LA052  2007-12-29   \n",
      "20071231X02014           Accident      DFW08FA053  2007-12-29   \n",
      "20080109X00032           Accident      NYC08FA071  2007-12-30   \n",
      "\n",
      "                         location        country   latitude    longitude  \\\n",
      "Event.Id                                                                   \n",
      "20020909X01562        PULLMAN, WA  United States        NaN          NaN   \n",
      "20020909X01561   EAST HANOVER, NJ  United States        NaN          NaN   \n",
      "20020917X02148          HOMER, LA  United States        NaN          NaN   \n",
      "20020917X02134         HEARNE, TX  United States        NaN          NaN   \n",
      "20020917X02119      CHICKASHA, OK  United States        NaN          NaN   \n",
      "...                           ...            ...        ...          ...   \n",
      "20080108X00030  Traverse City, MI  United States  44.737222     -85.5275   \n",
      "20080102X00006       MURRIETA, CA  United States  33.572778  -117.234444   \n",
      "20080103X00010        Crowley, TX  United States  32.557222   -97.485555   \n",
      "20071231X02014         Venice, LA  United States  28.958056   -89.258889   \n",
      "20080109X00032       CHEROKEE, AL  United States  34.688611       -87.92   \n",
      "\n",
      "               airport_code            airport_name injury_severity  ...  \\\n",
      "Event.Id                                                             ...   \n",
      "20020909X01562          NaN      BLACKBURN AG STRIP       Non-Fatal  ...   \n",
      "20020909X01561          N58                 HANOVER       Non-Fatal  ...   \n",
      "20020917X02148          NaN                     NaN       Non-Fatal  ...   \n",
      "20020917X02134          T72        HEARNE MUNICIPAL        Fatal(1)  ...   \n",
      "20020917X02119          NaN                     NaN        Fatal(1)  ...   \n",
      "...                     ...                     ...             ...  ...   \n",
      "20080108X00030          TVC  Cherry Capital Airport        Fatal(1)  ...   \n",
      "20080102X00006          NaN                     NaN       Non-Fatal  ...   \n",
      "20080103X00010          NaN                     NaN        Fatal(2)  ...   \n",
      "20071231X02014          NaN           South Pass 38        Fatal(1)  ...   \n",
      "20080109X00032          NaN                     NaN        Fatal(3)  ...   \n",
      "\n",
      "               purpose_of_flight air_carrier total_fatal_injuries  \\\n",
      "Event.Id                                                            \n",
      "20020909X01562          Personal         NaN                  0.0   \n",
      "20020909X01561          Business         NaN                  0.0   \n",
      "20020917X02148          Personal         NaN                  0.0   \n",
      "20020917X02134          Personal         NaN                  1.0   \n",
      "20020917X02119          Personal         NaN                  1.0   \n",
      "...                          ...         ...                  ...   \n",
      "20080108X00030          Personal         NaN                  1.0   \n",
      "20080102X00006          Personal         NaN                  0.0   \n",
      "20080103X00010          Personal         NaN                  2.0   \n",
      "20071231X02014               NaN         NaN                  1.0   \n",
      "20080109X00032    Other Work Use         NaN                  3.0   \n",
      "\n",
      "               total_serious_injuries total_minor_injuries total_uninjured  \\\n",
      "Event.Id                                                                     \n",
      "20020909X01562                    0.0                  0.0             2.0   \n",
      "20020909X01561                    0.0                  0.0             2.0   \n",
      "20020917X02148                    0.0                  1.0             0.0   \n",
      "20020917X02134                    0.0                  0.0             0.0   \n",
      "20020917X02119                    0.0                  0.0             0.0   \n",
      "...                               ...                  ...             ...   \n",
      "20080108X00030                    1.0                  NaN             NaN   \n",
      "20080102X00006                    1.0                  0.0             0.0   \n",
      "20080103X00010                    0.0                  0.0             0.0   \n",
      "20071231X02014                    1.0                  2.0             NaN   \n",
      "20080109X00032                    0.0                  0.0             0.0   \n",
      "\n",
      "                weather_condition broad_phase_of_flight   report_status  \\\n",
      "Event.Id                                                                  \n",
      "20020909X01562                VMC               Takeoff  Probable Cause   \n",
      "20020909X01561                IMC               Landing  Probable Cause   \n",
      "20020917X02148                IMC                Cruise  Probable Cause   \n",
      "20020917X02134                IMC               Takeoff  Probable Cause   \n",
      "20020917X02119                IMC                Cruise  Probable Cause   \n",
      "...                           ...                   ...             ...   \n",
      "20080108X00030                IMC              Approach  Probable Cause   \n",
      "20080102X00006                VMC                Cruise  Probable Cause   \n",
      "20080103X00010                VMC           Maneuvering  Probable Cause   \n",
      "20071231X02014                IMC              Approach  Probable Cause   \n",
      "20080109X00032                VMC           Maneuvering  Probable Cause   \n",
      "\n",
      "               publication_date  \n",
      "Event.Id                         \n",
      "20020909X01562       01-01-1982  \n",
      "20020909X01561       01-01-1982  \n",
      "20020917X02148       02-01-1983  \n",
      "20020917X02134       02-01-1983  \n",
      "20020917X02119       02-01-1983  \n",
      "...                         ...  \n",
      "20080108X00030       05-08-2011  \n",
      "20080102X00006       24-12-2008  \n",
      "20080103X00010       03-12-2008  \n",
      "20071231X02014       15-07-2009  \n",
      "20080109X00032       15-01-2009  \n",
      "\n",
      "[3629 rows x 30 columns]\n"
     ]
    }
   ],
   "source": [
    "df_cleaned_tfatal = df_cleaned[df_cleaned['total_fatal_injuries'] < 228] #Keep rows where total_fatal_injuries is less than to 228.\n",
    "print(df_cleaned_tfatal)"
   ]
  },
  {
   "cell_type": "code",
   "execution_count": 47,
   "metadata": {},
   "outputs": [
    {
     "data": {
      "text/html": [
       "<div>\n",
       "<style scoped>\n",
       "    .dataframe tbody tr th:only-of-type {\n",
       "        vertical-align: middle;\n",
       "    }\n",
       "\n",
       "    .dataframe tbody tr th {\n",
       "        vertical-align: top;\n",
       "    }\n",
       "\n",
       "    .dataframe thead th {\n",
       "        text-align: right;\n",
       "    }\n",
       "</style>\n",
       "<table border=\"1\" class=\"dataframe\">\n",
       "  <thead>\n",
       "    <tr style=\"text-align: right;\">\n",
       "      <th></th>\n",
       "      <th>investigation_type</th>\n",
       "      <th>accident_number</th>\n",
       "      <th>event_date</th>\n",
       "      <th>location</th>\n",
       "      <th>country</th>\n",
       "      <th>latitude</th>\n",
       "      <th>longitude</th>\n",
       "      <th>airport_code</th>\n",
       "      <th>airport_name</th>\n",
       "      <th>injury_severity</th>\n",
       "      <th>...</th>\n",
       "      <th>purpose_of_flight</th>\n",
       "      <th>air_carrier</th>\n",
       "      <th>total_fatal_injuries</th>\n",
       "      <th>total_serious_injuries</th>\n",
       "      <th>total_minor_injuries</th>\n",
       "      <th>total_uninjured</th>\n",
       "      <th>weather_condition</th>\n",
       "      <th>broad_phase_of_flight</th>\n",
       "      <th>report_status</th>\n",
       "      <th>publication_date</th>\n",
       "    </tr>\n",
       "    <tr>\n",
       "      <th>Event.Id</th>\n",
       "      <th></th>\n",
       "      <th></th>\n",
       "      <th></th>\n",
       "      <th></th>\n",
       "      <th></th>\n",
       "      <th></th>\n",
       "      <th></th>\n",
       "      <th></th>\n",
       "      <th></th>\n",
       "      <th></th>\n",
       "      <th></th>\n",
       "      <th></th>\n",
       "      <th></th>\n",
       "      <th></th>\n",
       "      <th></th>\n",
       "      <th></th>\n",
       "      <th></th>\n",
       "      <th></th>\n",
       "      <th></th>\n",
       "      <th></th>\n",
       "      <th></th>\n",
       "    </tr>\n",
       "  </thead>\n",
       "  <tbody>\n",
       "    <tr>\n",
       "      <th>20020909X01562</th>\n",
       "      <td>Accident</td>\n",
       "      <td>SEA82DA022</td>\n",
       "      <td>1982-01-01</td>\n",
       "      <td>PULLMAN, WA</td>\n",
       "      <td>United States</td>\n",
       "      <td>NaN</td>\n",
       "      <td>NaN</td>\n",
       "      <td>NaN</td>\n",
       "      <td>BLACKBURN AG STRIP</td>\n",
       "      <td>Non-Fatal</td>\n",
       "      <td>...</td>\n",
       "      <td>Personal</td>\n",
       "      <td>NaN</td>\n",
       "      <td>0.0</td>\n",
       "      <td>0.0</td>\n",
       "      <td>0.0</td>\n",
       "      <td>2.0</td>\n",
       "      <td>VMC</td>\n",
       "      <td>Takeoff</td>\n",
       "      <td>Probable Cause</td>\n",
       "      <td>01-01-1982</td>\n",
       "    </tr>\n",
       "    <tr>\n",
       "      <th>20020909X01561</th>\n",
       "      <td>Accident</td>\n",
       "      <td>NYC82DA015</td>\n",
       "      <td>1982-01-01</td>\n",
       "      <td>EAST HANOVER, NJ</td>\n",
       "      <td>United States</td>\n",
       "      <td>NaN</td>\n",
       "      <td>NaN</td>\n",
       "      <td>N58</td>\n",
       "      <td>HANOVER</td>\n",
       "      <td>Non-Fatal</td>\n",
       "      <td>...</td>\n",
       "      <td>Business</td>\n",
       "      <td>NaN</td>\n",
       "      <td>0.0</td>\n",
       "      <td>0.0</td>\n",
       "      <td>0.0</td>\n",
       "      <td>2.0</td>\n",
       "      <td>IMC</td>\n",
       "      <td>Landing</td>\n",
       "      <td>Probable Cause</td>\n",
       "      <td>01-01-1982</td>\n",
       "    </tr>\n",
       "    <tr>\n",
       "      <th>20020917X02148</th>\n",
       "      <td>Accident</td>\n",
       "      <td>FTW82FRJ07</td>\n",
       "      <td>1982-01-02</td>\n",
       "      <td>HOMER, LA</td>\n",
       "      <td>United States</td>\n",
       "      <td>NaN</td>\n",
       "      <td>NaN</td>\n",
       "      <td>NaN</td>\n",
       "      <td>NaN</td>\n",
       "      <td>Non-Fatal</td>\n",
       "      <td>...</td>\n",
       "      <td>Personal</td>\n",
       "      <td>NaN</td>\n",
       "      <td>0.0</td>\n",
       "      <td>0.0</td>\n",
       "      <td>1.0</td>\n",
       "      <td>0.0</td>\n",
       "      <td>IMC</td>\n",
       "      <td>Cruise</td>\n",
       "      <td>Probable Cause</td>\n",
       "      <td>02-01-1983</td>\n",
       "    </tr>\n",
       "    <tr>\n",
       "      <th>20020917X02134</th>\n",
       "      <td>Accident</td>\n",
       "      <td>FTW82FRA14</td>\n",
       "      <td>1982-01-02</td>\n",
       "      <td>HEARNE, TX</td>\n",
       "      <td>United States</td>\n",
       "      <td>NaN</td>\n",
       "      <td>NaN</td>\n",
       "      <td>T72</td>\n",
       "      <td>HEARNE MUNICIPAL</td>\n",
       "      <td>Fatal(1)</td>\n",
       "      <td>...</td>\n",
       "      <td>Personal</td>\n",
       "      <td>NaN</td>\n",
       "      <td>1.0</td>\n",
       "      <td>0.0</td>\n",
       "      <td>0.0</td>\n",
       "      <td>0.0</td>\n",
       "      <td>IMC</td>\n",
       "      <td>Takeoff</td>\n",
       "      <td>Probable Cause</td>\n",
       "      <td>02-01-1983</td>\n",
       "    </tr>\n",
       "    <tr>\n",
       "      <th>20020917X02119</th>\n",
       "      <td>Accident</td>\n",
       "      <td>FTW82FPJ10</td>\n",
       "      <td>1982-01-02</td>\n",
       "      <td>CHICKASHA, OK</td>\n",
       "      <td>United States</td>\n",
       "      <td>NaN</td>\n",
       "      <td>NaN</td>\n",
       "      <td>NaN</td>\n",
       "      <td>NaN</td>\n",
       "      <td>Fatal(1)</td>\n",
       "      <td>...</td>\n",
       "      <td>Personal</td>\n",
       "      <td>NaN</td>\n",
       "      <td>1.0</td>\n",
       "      <td>0.0</td>\n",
       "      <td>0.0</td>\n",
       "      <td>0.0</td>\n",
       "      <td>IMC</td>\n",
       "      <td>Cruise</td>\n",
       "      <td>Probable Cause</td>\n",
       "      <td>02-01-1983</td>\n",
       "    </tr>\n",
       "  </tbody>\n",
       "</table>\n",
       "<p>5 rows × 30 columns</p>\n",
       "</div>"
      ],
      "text/plain": [
       "               investigation_type accident_number  event_date  \\\n",
       "Event.Id                                                        \n",
       "20020909X01562           Accident      SEA82DA022  1982-01-01   \n",
       "20020909X01561           Accident      NYC82DA015  1982-01-01   \n",
       "20020917X02148           Accident      FTW82FRJ07  1982-01-02   \n",
       "20020917X02134           Accident      FTW82FRA14  1982-01-02   \n",
       "20020917X02119           Accident      FTW82FPJ10  1982-01-02   \n",
       "\n",
       "                        location        country latitude longitude  \\\n",
       "Event.Id                                                             \n",
       "20020909X01562       PULLMAN, WA  United States      NaN       NaN   \n",
       "20020909X01561  EAST HANOVER, NJ  United States      NaN       NaN   \n",
       "20020917X02148         HOMER, LA  United States      NaN       NaN   \n",
       "20020917X02134        HEARNE, TX  United States      NaN       NaN   \n",
       "20020917X02119     CHICKASHA, OK  United States      NaN       NaN   \n",
       "\n",
       "               airport_code        airport_name injury_severity  ...  \\\n",
       "Event.Id                                                         ...   \n",
       "20020909X01562          NaN  BLACKBURN AG STRIP       Non-Fatal  ...   \n",
       "20020909X01561          N58             HANOVER       Non-Fatal  ...   \n",
       "20020917X02148          NaN                 NaN       Non-Fatal  ...   \n",
       "20020917X02134          T72    HEARNE MUNICIPAL        Fatal(1)  ...   \n",
       "20020917X02119          NaN                 NaN        Fatal(1)  ...   \n",
       "\n",
       "               purpose_of_flight air_carrier total_fatal_injuries  \\\n",
       "Event.Id                                                            \n",
       "20020909X01562          Personal         NaN                  0.0   \n",
       "20020909X01561          Business         NaN                  0.0   \n",
       "20020917X02148          Personal         NaN                  0.0   \n",
       "20020917X02134          Personal         NaN                  1.0   \n",
       "20020917X02119          Personal         NaN                  1.0   \n",
       "\n",
       "               total_serious_injuries total_minor_injuries total_uninjured  \\\n",
       "Event.Id                                                                     \n",
       "20020909X01562                    0.0                  0.0             2.0   \n",
       "20020909X01561                    0.0                  0.0             2.0   \n",
       "20020917X02148                    0.0                  1.0             0.0   \n",
       "20020917X02134                    0.0                  0.0             0.0   \n",
       "20020917X02119                    0.0                  0.0             0.0   \n",
       "\n",
       "                weather_condition broad_phase_of_flight   report_status  \\\n",
       "Event.Id                                                                  \n",
       "20020909X01562                VMC               Takeoff  Probable Cause   \n",
       "20020909X01561                IMC               Landing  Probable Cause   \n",
       "20020917X02148                IMC                Cruise  Probable Cause   \n",
       "20020917X02134                IMC               Takeoff  Probable Cause   \n",
       "20020917X02119                IMC                Cruise  Probable Cause   \n",
       "\n",
       "               publication_date  \n",
       "Event.Id                         \n",
       "20020909X01562       01-01-1982  \n",
       "20020909X01561       01-01-1982  \n",
       "20020917X02148       02-01-1983  \n",
       "20020917X02134       02-01-1983  \n",
       "20020917X02119       02-01-1983  \n",
       "\n",
       "[5 rows x 30 columns]"
      ]
     },
     "execution_count": 47,
     "metadata": {},
     "output_type": "execute_result"
    }
   ],
   "source": [
    "df_cleaned_tfatal.head()"
   ]
  },
  {
   "cell_type": "code",
   "execution_count": 48,
   "metadata": {},
   "outputs": [
    {
     "data": {
      "image/png": "[encoded data removed]",
      "text/plain": [
       "<Figure size 432x288 with 1 Axes>"
      ]
     },
     "metadata": {
      "needs_background": "light"
     },
     "output_type": "display_data"
    }
   ],
   "source": [
    "\n",
    "#ploting a histogram of total_fatal_injuries     \n",
    "df_cleaned_tfatal['total_fatal_injuries'].plot(kind = 'hist');\n",
    "\n",
    "plt.xlabel('Total Fatal Injuries')\n",
    "plt.ylabel('Frequency')\n",
    "plt.title('Total Fatal Injuries Distribution')\n",
    "plt.axvline(df_cleaned_tfatal['total_fatal_injuries'].mean(),color='red',linestyle='dashed',linewidth=3)\n",
    "plt.tight_layout() \n",
    "plt.show()"
   ]
  },
  {
   "cell_type": "markdown",
   "metadata": {},
   "source": [
    "### Group data by model and total_fatal_injuries"
   ]
  },
  {
   "cell_type": "code",
   "execution_count": 49,
   "metadata": {},
   "outputs": [
    {
     "data": {
      "text/html": [
       "<div>\n",
       "<style scoped>\n",
       "    .dataframe tbody tr th:only-of-type {\n",
       "        vertical-align: middle;\n",
       "    }\n",
       "\n",
       "    .dataframe tbody tr th {\n",
       "        vertical-align: top;\n",
       "    }\n",
       "\n",
       "    .dataframe thead th {\n",
       "        text-align: right;\n",
       "    }\n",
       "</style>\n",
       "<table border=\"1\" class=\"dataframe\">\n",
       "  <thead>\n",
       "    <tr style=\"text-align: right;\">\n",
       "      <th></th>\n",
       "      <th>sum</th>\n",
       "      <th>mean</th>\n",
       "    </tr>\n",
       "    <tr>\n",
       "      <th>model</th>\n",
       "      <th></th>\n",
       "      <th></th>\n",
       "    </tr>\n",
       "  </thead>\n",
       "  <tbody>\n",
       "    <tr>\n",
       "      <th>(SOLOY CONVERSION)</th>\n",
       "      <td>0.0</td>\n",
       "      <td>0.0</td>\n",
       "    </tr>\n",
       "    <tr>\n",
       "      <th>0-47B</th>\n",
       "      <td>0.0</td>\n",
       "      <td>0.0</td>\n",
       "    </tr>\n",
       "    <tr>\n",
       "      <th>0-77</th>\n",
       "      <td>0.0</td>\n",
       "      <td>0.0</td>\n",
       "    </tr>\n",
       "    <tr>\n",
       "      <th>1</th>\n",
       "      <td>0.0</td>\n",
       "      <td>0.0</td>\n",
       "    </tr>\n",
       "    <tr>\n",
       "      <th>1-126E</th>\n",
       "      <td>0.0</td>\n",
       "      <td>0.0</td>\n",
       "    </tr>\n",
       "    <tr>\n",
       "      <th>...</th>\n",
       "      <td>...</td>\n",
       "      <td>...</td>\n",
       "    </tr>\n",
       "    <tr>\n",
       "      <th>WCS-222 (BELL 47G)</th>\n",
       "      <td>0.0</td>\n",
       "      <td>0.0</td>\n",
       "    </tr>\n",
       "    <tr>\n",
       "      <th>YS-11A</th>\n",
       "      <td>0.0</td>\n",
       "      <td>0.0</td>\n",
       "    </tr>\n",
       "    <tr>\n",
       "      <th>Yak 52</th>\n",
       "      <td>2.0</td>\n",
       "      <td>2.0</td>\n",
       "    </tr>\n",
       "    <tr>\n",
       "      <th>Zlin 526F</th>\n",
       "      <td>1.0</td>\n",
       "      <td>1.0</td>\n",
       "    </tr>\n",
       "    <tr>\n",
       "      <th>Zodiac 601 XL</th>\n",
       "      <td>1.0</td>\n",
       "      <td>1.0</td>\n",
       "    </tr>\n",
       "  </tbody>\n",
       "</table>\n",
       "<p>1110 rows × 2 columns</p>\n",
       "</div>"
      ],
      "text/plain": [
       "                    sum  mean\n",
       "model                        \n",
       "(SOLOY CONVERSION)  0.0   0.0\n",
       "0-47B               0.0   0.0\n",
       "0-77                0.0   0.0\n",
       "1                   0.0   0.0\n",
       "1-126E              0.0   0.0\n",
       "...                 ...   ...\n",
       "WCS-222 (BELL 47G)  0.0   0.0\n",
       "YS-11A              0.0   0.0\n",
       "Yak 52              2.0   2.0\n",
       "Zlin 526F           1.0   1.0\n",
       "Zodiac 601 XL       1.0   1.0\n",
       "\n",
       "[1110 rows x 2 columns]"
      ]
     },
     "execution_count": 49,
     "metadata": {},
     "output_type": "execute_result"
    }
   ],
   "source": [
    "grouped_data2 = df_cleaned_tfatal.groupby('model')['total_fatal_injuries'].agg(['sum', 'mean'])\n",
    "grouped_data2"
   ]
  },
  {
   "cell_type": "markdown",
   "metadata": {},
   "source": [
    "### Scatter Plots"
   ]
  },
  {
   "cell_type": "code",
   "execution_count": 50,
   "metadata": {},
   "outputs": [
    {
     "data": {
      "image/png": "[encoded data removed]",
      "text/plain": [
       "<Figure size 432x288 with 25 Axes>"
      ]
     },
     "metadata": {
      "needs_background": "light"
     },
     "output_type": "display_data"
    }
   ],
   "source": [
    "\n",
    "# plottting a scatter matrix to explore what kind of relationships exist in our data\n",
    "pd.plotting.scatter_matrix(df_cleaned_tfatal);\n",
    "\n"
   ]
  },
  {
   "cell_type": "code",
   "execution_count": 126,
   "metadata": {},
   "outputs": [],
   "source": [
    "# scatter plot of model vs total_fatal_injuries\n",
    "\n",
    "#df_cleaned_tfatal.plot('total_fatal_injuries' kind= 'scatter');\n"
   ]
  },
  {
   "cell_type": "code",
   "execution_count": 51,
   "metadata": {},
   "outputs": [
    {
     "data": {
      "image/png": "[encoded data removed]",
      "text/plain": [
       "<Figure size 432x288 with 25 Axes>"
      ]
     },
     "metadata": {
      "needs_background": "light"
     },
     "output_type": "display_data"
    }
   ],
   "source": [
    "# plottting a scatter matrix to explore what kind of relationships exist in our data\n",
    "pd.plotting.scatter_matrix(df_cleaned_tfatal);"
   ]
  },
  {
   "cell_type": "code",
   "execution_count": 52,
   "metadata": {},
   "outputs": [
    {
     "data": {
      "text/plain": [
       "Text(0, 0.5, 'Total Fatal Injuries')"
      ]
     },
     "execution_count": 52,
     "metadata": {},
     "output_type": "execute_result"
    },
    {
     "data": {
      "image/png": "[encoded data removed]",
      "text/plain": [
       "<Figure size 1440x720 with 1 Axes>"
      ]
     },
     "metadata": {
      "needs_background": "light"
     },
     "output_type": "display_data"
    }
   ],
   "source": [
    "#\n",
    "scatter_plot_title = 'Relationship aircraft model and Total Fatal Injuries'\n",
    "model_label = 'Aircraft Model'\n",
    "total_fatal_injuries_label = 'Total Fatal Injuries'\n",
    "\n",
    "tackle_figure, ax = plt.subplots(figsize=(20, 10))\n",
    "\n",
    "# Your code here\n",
    "ax.scatter(df_cleaned['model'], df_cleaned['total_fatal_injuries'])\n",
    "# title\n",
    "ax.set_title(scatter_plot_title)\n",
    "# x-axis label\n",
    "ax.set_xlabel(model_label)\n",
    "# y-axis label\n",
    "ax.set_ylabel(total_fatal_injuries_label)"
   ]
  },
  {
   "cell_type": "code",
   "execution_count": 53,
   "metadata": {},
   "outputs": [
    {
     "data": {
      "text/plain": [
       "Text(0, 0.5, 'Most 20 Total Fatal Injuries')"
      ]
     },
     "execution_count": 53,
     "metadata": {},
     "output_type": "execute_result"
    },
    {
     "data": {
      "image/png": "[encoded data removed]",
      "text/plain": [
       "<Figure size 1440x720 with 1 Axes>"
      ]
     },
     "metadata": {
      "needs_background": "light"
     },
     "output_type": "display_data"
    }
   ],
   "source": [
    "# Your code here - remember to use markdown cells for comments as well!\n",
    "\n",
    "scatter_plot_title = 'Relationship aircraft model and Most 20 Total Fatal Injuries'\n",
    "model_label = 'Aircraft Model'\n",
    "total_fatal_injuries_label = 'Most 20 Total Fatal Injuries'\n",
    "\n",
    "tackle_figure, ax = plt.subplots(figsize=(20, 10))\n",
    "\n",
    "# Your code here\n",
    "ax.scatter(top_20_most_fatalities['model'], top_20_most_fatalities['total_fatal_injuries'])\n",
    "# title\n",
    "ax.set_title(scatter_plot_title)\n",
    "# x-axis label\n",
    "ax.set_xlabel(model_label)\n",
    "# y-axis label\n",
    "ax.set_ylabel(total_fatal_injuries_label)"
   ]
  },
  {
   "cell_type": "code",
   "execution_count": 54,
   "metadata": {},
   "outputs": [
    {
     "data": {
      "text/plain": [
       "Text(0, 0.5, 'Total Fatal Injuries')"
      ]
     },
     "execution_count": 54,
     "metadata": {},
     "output_type": "execute_result"
    },
    {
     "data": {
      "image/png": "[encoded data removed]",
      "text/plain": [
       "<Figure size 1440x720 with 1 Axes>"
      ]
     },
     "metadata": {
      "needs_background": "light"
     },
     "output_type": "display_data"
    }
   ],
   "source": [
    "scatter_plot_title = 'Relationship aircraft model and Total Fatal Injuries'\n",
    "model_label = 'Aircraft Model'\n",
    "total_fatal_injuries_label = 'Total Fatal Injuries'\n",
    "\n",
    "tackle_figure, ax = plt.subplots(figsize=(20, 10))\n",
    "\n",
    "# Your code here\n",
    "ax.scatter(df_cleaned_tfatal['model'], df_cleaned_tfatal['total_fatal_injuries'])\n",
    "# title\n",
    "ax.set_title(scatter_plot_title)\n",
    "# x-axis label\n",
    "ax.set_xlabel(model_label)\n",
    "# y-axis label\n",
    "ax.set_ylabel(total_fatal_injuries_label)\n",
    "\n"
   ]
  },
  {
   "cell_type": "markdown",
   "metadata": {},
   "source": [
    "## Covert the df_cleaned DataFrame to a .csv file"
   ]
  },
  {
   "cell_type": "code",
   "execution_count": 55,
   "metadata": {},
   "outputs": [],
   "source": [
    "df_cleaned.to_csv('df_cleaned.csv', index=False)"
   ]
  },
  {
   "cell_type": "code",
   "execution_count": 56,
   "metadata": {},
   "outputs": [],
   "source": [
    "# convert the file to excel\n",
    "df_cleaned.to_excel(\"df_cleaned_aviation.xlsx\", index=False)"
   ]
  },
  {
   "cell_type": "markdown",
   "metadata": {},
   "source": [
    "# Reccommendation \n",
    "\n"
   ]
  },
  {
   "cell_type": "markdown",
   "metadata": {},
   "source": [
    "There have been a total of over 90000 accidents and incidents rported by the National Transport Authority over the las 60 years\n",
    "The mean number of aircraft engines in 1.133\n",
    "The maximun number of fatalities have been 228\n",
    "Some aircrafts have not reported any incident or accidents over the years\n",
    "The aircraft with the most number of fatalities is the model 747-300. This could be due to its high capacity of over 500 passengers\n",
    "\n",
    "Makes such as Adams, Aeronca Champion and weatherly have not reported any fatal injuries. \n"
   ]
  }
 ],
 "metadata": {
  "kernelspec": {
   "display_name": "learn-env",
   "language": "python",
   "name": "python3"
  },
  "language_info": {
   "codemirror_mode": {
    "name": "ipython",
    "version": 3
   },
   "file_extension": ".py",
   "mimetype": "text/x-python",
   "name": "python",
   "nbconvert_exporter": "python",
   "pygments_lexer": "ipython3",
   "version": "3.8.5"
  }
 },
 "nbformat": 4,
 "nbformat_minor": 2
}
